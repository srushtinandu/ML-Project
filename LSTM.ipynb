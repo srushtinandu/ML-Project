{
  "nbformat": 4,
  "nbformat_minor": 0,
  "metadata": {
    "colab": {
      "name": "LSTM.ipynb",
      "provenance": [],
      "collapsed_sections": [],
      "include_colab_link": true
    },
    "kernelspec": {
      "name": "python3",
      "display_name": "Python 3"
    },
    "language_info": {
      "name": "python"
    }
  },
  "cells": [
    {
      "cell_type": "markdown",
      "metadata": {
        "id": "view-in-github",
        "colab_type": "text"
      },
      "source": [
        "<a href=\"https://colab.research.google.com/github/srushtinandu/ML-Project/blob/main/LSTM.ipynb\" target=\"_parent\"><img src=\"https://colab.research.google.com/assets/colab-badge.svg\" alt=\"Open In Colab\"/></a>"
      ]
    },
    {
      "cell_type": "code",
      "metadata": {
        "colab": {
          "base_uri": "https://localhost:8080/"
        },
        "id": "g7OtlcnyBS0a",
        "outputId": "3dabcf2d-91e7-4ad7-e6bc-233da8fbc337"
      },
      "source": [
        "import nltk\n",
        "nltk.download('stopwords')"
      ],
      "execution_count": null,
      "outputs": [
        {
          "output_type": "stream",
          "text": [
            "[nltk_data] Downloading package stopwords to /root/nltk_data...\n",
            "[nltk_data]   Unzipping corpora/stopwords.zip.\n"
          ],
          "name": "stdout"
        },
        {
          "output_type": "execute_result",
          "data": {
            "text/plain": [
              "True"
            ]
          },
          "metadata": {
            "tags": []
          },
          "execution_count": 1
        }
      ]
    },
    {
      "cell_type": "code",
      "metadata": {
        "id": "rAERqmoZiMwr"
      },
      "source": [
        "import pandas as pd\n",
        "import keras\n",
        "from keras.datasets import mnist\n",
        "from keras.models import Sequential\n",
        "from keras.layers import Dense, Dropout, LSTM, Embedding, SpatialDropout1D\n",
        "from keras.optimizers import Adam\n",
        "import seaborn as sns\n",
        "import matplotlib.pyplot as plt\n",
        "import re\n",
        "from nltk.corpus import stopwords\n",
        "from keras.preprocessing.text import Tokenizer\n",
        "from keras.preprocessing.sequence import pad_sequences\n",
        "from keras.callbacks import EarlyStopping"
      ],
      "execution_count": null,
      "outputs": []
    },
    {
      "cell_type": "code",
      "metadata": {
        "colab": {
          "base_uri": "https://localhost:8080/"
        },
        "id": "8ID9kTabw_90",
        "outputId": "7ecc9cf2-7ec4-4710-ab19-b07c8c1ff6bf"
      },
      "source": [
        "url = 'https://raw.githubusercontent.com/srushtinandu/NLP-Project/main/data/train.tsv'\n",
        "df = pd.read_csv(url, sep = '\\t')\n",
        "df.columns=['ID', 'Label', 'Statement', 'subject(s)', 'speaker', 'speaker\\'s job', 'state info', 'party affiliation', 'barely true counts', 'false counts', 'half true counts', 'mostly true counts', 'pants on fire counts', 'context']\n",
        "df.info()"
      ],
      "execution_count": null,
      "outputs": [
        {
          "output_type": "stream",
          "text": [
            "<class 'pandas.core.frame.DataFrame'>\n",
            "RangeIndex: 10239 entries, 0 to 10238\n",
            "Data columns (total 14 columns):\n",
            " #   Column                Non-Null Count  Dtype  \n",
            "---  ------                --------------  -----  \n",
            " 0   ID                    10239 non-null  object \n",
            " 1   Label                 10239 non-null  object \n",
            " 2   Statement             10239 non-null  object \n",
            " 3   subject(s)            10237 non-null  object \n",
            " 4   speaker               10237 non-null  object \n",
            " 5   speaker's job         7342 non-null   object \n",
            " 6   state info            8031 non-null   object \n",
            " 7   party affiliation     10237 non-null  object \n",
            " 8   barely true counts    10237 non-null  float64\n",
            " 9   false counts          10237 non-null  float64\n",
            " 10  half true counts      10237 non-null  float64\n",
            " 11  mostly true counts    10237 non-null  float64\n",
            " 12  pants on fire counts  10237 non-null  float64\n",
            " 13  context               10137 non-null  object \n",
            "dtypes: float64(5), object(9)\n",
            "memory usage: 1.1+ MB\n"
          ],
          "name": "stdout"
        }
      ]
    },
    {
      "cell_type": "code",
      "metadata": {
        "colab": {
          "base_uri": "https://localhost:8080/",
          "height": 279
        },
        "id": "SKZ6tNXnykK6",
        "outputId": "b6a89cb1-51cd-4970-bc62-579d0d025282"
      },
      "source": [
        "sns.countplot(x=df.Label)\n",
        "plt.xlabel('Labels')\n",
        "plt.show()"
      ],
      "execution_count": null,
      "outputs": [
        {
          "output_type": "display_data",
          "data": {
            "image/png": "[encoded data removed]",
            "text/plain": [
              "<Figure size 432x288 with 1 Axes>"
            ]
          },
          "metadata": {
            "tags": [],
            "needs_background": "light"
          }
        }
      ]
    },
    {
      "cell_type": "code",
      "metadata": {
        "id": "NAPxLrkWN9mi"
      },
      "source": [
        "def to_label(label):\n",
        "  if label == 'mostly-true' or label == 'half-true':\n",
        "    return 'true'\n",
        "  elif label == 'pants-fire' or label == 'barely-true':\n",
        "    return 'false'\n",
        "  else:\n",
        "    return label\n",
        "\n",
        "df['Label'] = df.Label.apply(to_label)"
      ],
      "execution_count": null,
      "outputs": []
    },
    {
      "cell_type": "code",
      "metadata": {
        "id": "sjYs0vPFfAw4"
      },
      "source": [
        "df = df[df['Statement'].notna()]"
      ],
      "execution_count": null,
      "outputs": []
    },
    {
      "cell_type": "code",
      "metadata": {
        "id": "0Pacm8a7zoYp"
      },
      "source": [
        "df = df.reset_index(drop=True)\n",
        "NUMBERS_RE = re.compile('[^0-9]+')\n",
        "REPLACE_BY_SPACE_RE = re.compile('[/(){}\\[\\]\\|@,;]')\n",
        "BAD_SYMBOLS_RE = re.compile('[^0-9a-z #+_]')\n",
        "STOPWORDS = set(stopwords.words('english'))"
      ],
      "execution_count": null,
      "outputs": []
    },
    {
      "cell_type": "code",
      "metadata": {
        "id": "d5bmF0am0MU_"
      },
      "source": [
        "def clean_text(text):\n",
        "    \"\"\"\n",
        "        text: a string\n",
        "        \n",
        "        return: modified initial string\n",
        "    \"\"\"\n",
        "    result = re.match(r\"[0-9]+\", text)\n",
        "    if result != None:\n",
        "      text = NUMBERS_RE.sub('X', text)\n",
        "\n",
        "    text = text.replace('X', '')\n",
        "    text = text.lower() # lowercase text\n",
        "    text = REPLACE_BY_SPACE_RE.sub(' ', text) # replace REPLACE_BY_SPACE_RE symbols by space in text. substitute the matched string in REPLACE_BY_SPACE_RE with space.\n",
        "    text = BAD_SYMBOLS_RE.sub('', text) # remove symbols which are in BAD_SYMBOLS_RE from text. substitute the matched string in BAD_SYMBOLS_RE with nothing. \n",
        "    #text = re.sub(r'\\W+', '', text)\n",
        "    text = ' '.join(word for word in text.split() if word not in STOPWORDS) # remove stopwors from text\n",
        "    return text\n",
        "\n",
        "df['Statement'] = df['Statement'].apply(clean_text)\n",
        "df['Statement'] = df['Statement'].str.replace('\\d+', '')"
      ],
      "execution_count": null,
      "outputs": []
    },
    {
      "cell_type": "code",
      "metadata": {
        "colab": {
          "base_uri": "https://localhost:8080/"
        },
        "id": "JBvu4bZ-01Zw",
        "outputId": "7a7744e8-5df5-4157-dcba-f6d6fd905b05"
      },
      "source": [
        "# The maximum number of words to be used. (most frequent)\n",
        "MAX_NB_WORDS = 10000\n",
        "# Max number of words in each complaint.\n",
        "MAX_SEQUENCE_LENGTH = 50\n",
        "# This is fixed.\n",
        "EMBEDDING_DIM = 100\n",
        "tokenizer = Tokenizer(num_words=MAX_NB_WORDS, filters='!\"#$%&()*+,-./:;<=>?@[\\]^_`{|}~', lower=True)\n",
        "tokenizer.fit_on_texts(df['Statement'].values)\n",
        "word_index = tokenizer.word_index\n",
        "print('Found %s unique tokens.' % len(word_index))"
      ],
      "execution_count": null,
      "outputs": [
        {
          "output_type": "stream",
          "text": [
            "Found 12281 unique tokens.\n"
          ],
          "name": "stdout"
        }
      ]
    },
    {
      "cell_type": "code",
      "metadata": {
        "colab": {
          "base_uri": "https://localhost:8080/"
        },
        "id": "eIA8_scg2qnp",
        "outputId": "8b14bbc3-4c7a-4f95-cb90-30a9a6fabfe0"
      },
      "source": [
        "X_train = tokenizer.texts_to_sequences(df['Statement'].values)\n",
        "X_train = pad_sequences(X_train, maxlen=MAX_SEQUENCE_LENGTH)\n",
        "print('Shape of data tensor:', X_train.shape)"
      ],
      "execution_count": null,
      "outputs": [
        {
          "output_type": "stream",
          "text": [
            "Shape of data tensor: (10239, 50)\n"
          ],
          "name": "stdout"
        }
      ]
    },
    {
      "cell_type": "code",
      "metadata": {
        "colab": {
          "base_uri": "https://localhost:8080/"
        },
        "id": "eiaTLsJIA3DS",
        "outputId": "466deb34-87f9-45f1-c69b-a002a8b44a8b"
      },
      "source": [
        "y_train = pd.get_dummies(df['Label']).values\n",
        "print('Shape of label tensor:', y_train.shape)"
      ],
      "execution_count": null,
      "outputs": [
        {
          "output_type": "stream",
          "text": [
            "Shape of label tensor: (10239, 2)\n"
          ],
          "name": "stdout"
        }
      ]
    },
    {
      "cell_type": "code",
      "metadata": {
        "colab": {
          "base_uri": "https://localhost:8080/"
        },
        "id": "ZxQ3cr68D984",
        "outputId": "7462db10-a010-4015-92a1-25c3a0619843"
      },
      "source": [
        "url = 'https://raw.githubusercontent.com/srushtinandu/NLP-Project/main/data/valid.tsv'\n",
        "valid_data = pd.read_csv(url, sep = '\\t')\n",
        "valid_data.columns=['ID', 'Label', 'Statement', 'subject(s)', 'speaker', 'speaker\\'s job', 'state info', 'party affiliation', 'barely true counts', 'false counts', 'half true counts', 'mostly true counts', 'pants on fire counts', 'context']\n",
        "valid_data.info()"
      ],
      "execution_count": null,
      "outputs": [
        {
          "output_type": "stream",
          "text": [
            "<class 'pandas.core.frame.DataFrame'>\n",
            "RangeIndex: 1283 entries, 0 to 1282\n",
            "Data columns (total 14 columns):\n",
            " #   Column                Non-Null Count  Dtype \n",
            "---  ------                --------------  ----- \n",
            " 0   ID                    1283 non-null   object\n",
            " 1   Label                 1283 non-null   object\n",
            " 2   Statement             1283 non-null   object\n",
            " 3   subject(s)            1283 non-null   object\n",
            " 4   speaker               1283 non-null   object\n",
            " 5   speaker's job         938 non-null    object\n",
            " 6   state info            1004 non-null   object\n",
            " 7   party affiliation     1283 non-null   object\n",
            " 8   barely true counts    1283 non-null   int64 \n",
            " 9   false counts          1283 non-null   int64 \n",
            " 10  half true counts      1283 non-null   int64 \n",
            " 11  mostly true counts    1283 non-null   int64 \n",
            " 12  pants on fire counts  1283 non-null   int64 \n",
            " 13  context               1271 non-null   object\n",
            "dtypes: int64(5), object(9)\n",
            "memory usage: 140.5+ KB\n"
          ],
          "name": "stdout"
        }
      ]
    },
    {
      "cell_type": "code",
      "metadata": {
        "id": "ElON2zfxh_8A"
      },
      "source": [
        "valid_data = valid_data[valid_data['Statement'].notna()]"
      ],
      "execution_count": null,
      "outputs": []
    },
    {
      "cell_type": "code",
      "metadata": {
        "colab": {
          "base_uri": "https://localhost:8080/"
        },
        "id": "CJ6FhCxqEPwZ",
        "outputId": "a7940302-de89-47bc-b701-5fe42228b825"
      },
      "source": [
        "valid_data['Label'] = valid_data.Label.apply(to_label)\n",
        "valid_data = valid_data.reset_index(drop=True)\n",
        "valid_data['Statement'] = valid_data['Statement'].apply(clean_text)\n",
        "valid_data['Statement'] = valid_data['Statement'].str.replace('\\d+', '')\n",
        "tokenizer.fit_on_texts(valid_data['Statement'].values)\n",
        "word_index = tokenizer.word_index\n",
        "print('Found %s unique tokens.' % len(word_index))"
      ],
      "execution_count": null,
      "outputs": [
        {
          "output_type": "stream",
          "text": [
            "Found 13002 unique tokens.\n"
          ],
          "name": "stdout"
        }
      ]
    },
    {
      "cell_type": "code",
      "metadata": {
        "colab": {
          "base_uri": "https://localhost:8080/"
        },
        "id": "x-tVNUuWF7pR",
        "outputId": "9eca080a-fb6d-43f5-be64-b9e77d30e04f"
      },
      "source": [
        "X_valid = tokenizer.texts_to_sequences(valid_data['Statement'].values)\n",
        "X_valid = pad_sequences(X_valid, maxlen=MAX_SEQUENCE_LENGTH)\n",
        "print('Shape of data tensor:', X_valid.shape)"
      ],
      "execution_count": null,
      "outputs": [
        {
          "output_type": "stream",
          "text": [
            "Shape of data tensor: (1283, 50)\n"
          ],
          "name": "stdout"
        }
      ]
    },
    {
      "cell_type": "code",
      "metadata": {
        "colab": {
          "base_uri": "https://localhost:8080/"
        },
        "id": "ywl_t52JGNS6",
        "outputId": "0db8974d-672b-44b8-ef5a-5704c314f11e"
      },
      "source": [
        "y_valid = pd.get_dummies(valid_data['Label']).values\n",
        "print('Shape of label tensor:', y_valid.shape)"
      ],
      "execution_count": null,
      "outputs": [
        {
          "output_type": "stream",
          "text": [
            "Shape of label tensor: (1283, 2)\n"
          ],
          "name": "stdout"
        }
      ]
    },
    {
      "cell_type": "code",
      "metadata": {
        "colab": {
          "base_uri": "https://localhost:8080/"
        },
        "id": "rU73Kx-XGcE9",
        "outputId": "081259e0-47ae-4f80-8360-42674adf8b30"
      },
      "source": [
        "model = Sequential()\n",
        "model.add(Embedding(MAX_NB_WORDS, EMBEDDING_DIM, input_length=X_train.shape[1]))\n",
        "model.add(SpatialDropout1D(0.2))\n",
        "model.add(LSTM(128, dropout=0.3, recurrent_dropout=0.2))\n",
        "model.add(Dense(64, activation='relu'))\n",
        "model.add(Dropout(0.3))\n",
        "model.add(Dense(2, activation='relu'))\n",
        "model.compile(loss='binary_crossentropy', optimizer='Adam', metrics=['binary_accuracy'])\n",
        "\n",
        "epochs = 7\n",
        "batch_size = 32\n",
        "\n",
        "history = model.fit(X_train, y_train, epochs=epochs, batch_size=batch_size,validation_data=(X_valid, y_valid), callbacks=[EarlyStopping(monitor='val_loss', patience=3, min_delta=0.0001)])"
      ],
      "execution_count": null,
      "outputs": [
        {
          "output_type": "stream",
          "text": [
            "WARNING:tensorflow:Layer lstm will not use cuDNN kernel since it doesn't meet the cuDNN kernel criteria. It will use generic GPU kernel as fallback when running on GPU\n",
            "Epoch 1/7\n",
            "320/320 [==============================] - 65s 186ms/step - loss: 0.8647 - binary_accuracy: 0.5265 - val_loss: 0.6929 - val_binary_accuracy: 0.5187\n",
            "Epoch 2/7\n",
            "320/320 [==============================] - 60s 189ms/step - loss: 0.6569 - binary_accuracy: 0.6254 - val_loss: 0.7122 - val_binary_accuracy: 0.5269\n",
            "Epoch 3/7\n",
            "320/320 [==============================] - 61s 191ms/step - loss: 0.5743 - binary_accuracy: 0.7331 - val_loss: 0.7929 - val_binary_accuracy: 0.5121\n",
            "Epoch 4/7\n",
            "320/320 [==============================] - 61s 190ms/step - loss: 0.5033 - binary_accuracy: 0.7717 - val_loss: 1.6794 - val_binary_accuracy: 0.5156\n"
          ],
          "name": "stdout"
        }
      ]
    },
    {
      "cell_type": "code",
      "metadata": {
        "colab": {
          "base_uri": "https://localhost:8080/"
        },
        "id": "NiH6N6NmYM54",
        "outputId": "413a41f2-62c6-48d5-a2a7-394fb72384ec"
      },
      "source": [
        "model.summary()"
      ],
      "execution_count": null,
      "outputs": [
        {
          "output_type": "stream",
          "text": [
            "Model: \"sequential\"\n",
            "_________________________________________________________________\n",
            "Layer (type)                 Output Shape              Param #   \n",
            "=================================================================\n",
            "embedding (Embedding)        (None, 50, 100)           1000000   \n",
            "_________________________________________________________________\n",
            "spatial_dropout1d (SpatialDr (None, 50, 100)           0         \n",
            "_________________________________________________________________\n",
            "lstm (LSTM)                  (None, 128)               117248    \n",
            "_________________________________________________________________\n",
            "dense (Dense)                (None, 64)                8256      \n",
            "_________________________________________________________________\n",
            "dropout (Dropout)            (None, 64)                0         \n",
            "_________________________________________________________________\n",
            "dense_1 (Dense)              (None, 2)                 130       \n",
            "=================================================================\n",
            "Total params: 1,125,634\n",
            "Trainable params: 1,125,634\n",
            "Non-trainable params: 0\n",
            "_________________________________________________________________\n"
          ],
          "name": "stdout"
        }
      ]
    },
    {
      "cell_type": "code",
      "metadata": {
        "id": "hPfqOCifGoie"
      },
      "source": [
        "url = 'https://raw.githubusercontent.com/srushtinandu/NLP-Project/main/data/test.tsv'\n",
        "test_data = pd.read_csv(url, sep = '\\t')\n",
        "test_data.columns=['ID', 'Label', 'Statement', 'subject(s)', 'speaker', 'speaker\\'s job', 'state info', 'party affiliation', 'barely true counts', 'false counts', 'half true counts', 'mostly true counts', 'pants on fire counts', 'context']"
      ],
      "execution_count": null,
      "outputs": []
    },
    {
      "cell_type": "code",
      "metadata": {
        "id": "1sRqdi6LrpfA"
      },
      "source": [
        "test_data = test_data[test_data['Statement'].notna()]"
      ],
      "execution_count": null,
      "outputs": []
    },
    {
      "cell_type": "code",
      "metadata": {
        "id": "xAwVTbbLHILS",
        "colab": {
          "base_uri": "https://localhost:8080/"
        },
        "outputId": "efafec59-a52b-4b7f-aff6-86c8af1cb000"
      },
      "source": [
        "test_data['Label'] = test_data.Label.apply(to_label)\n",
        "test_data = test_data.reset_index(drop=True)\n",
        "test_data['Statement'] = test_data['Statement'].apply(clean_text)\n",
        "test_data['Statement'] = test_data['Statement'].str.replace('\\d+', '')\n",
        "tokenizer.fit_on_texts(test_data['Statement'].values)\n",
        "word_index = tokenizer.word_index\n",
        "print('Found %s unique tokens.' % len(word_index))"
      ],
      "execution_count": null,
      "outputs": [
        {
          "output_type": "stream",
          "text": [
            "Found 13699 unique tokens.\n"
          ],
          "name": "stdout"
        }
      ]
    },
    {
      "cell_type": "code",
      "metadata": {
        "id": "VAb37Q7yHXgm",
        "colab": {
          "base_uri": "https://localhost:8080/"
        },
        "outputId": "dde6e7b0-53d2-4bf3-e37f-4d6a63372ca1"
      },
      "source": [
        "X_test = tokenizer.texts_to_sequences(test_data['Statement'].values)\n",
        "X_test = pad_sequences(X_test, maxlen=MAX_SEQUENCE_LENGTH)\n",
        "print('Shape of data tensor:', X_test.shape)"
      ],
      "execution_count": null,
      "outputs": [
        {
          "output_type": "stream",
          "text": [
            "Shape of data tensor: (1266, 50)\n"
          ],
          "name": "stdout"
        }
      ]
    },
    {
      "cell_type": "code",
      "metadata": {
        "id": "YMe75BrPHfuN",
        "colab": {
          "base_uri": "https://localhost:8080/"
        },
        "outputId": "db2ff489-965c-4e40-eb41-aa43d4d5cd2f"
      },
      "source": [
        "y_test = pd.get_dummies(test_data['Label']).values\n",
        "print('Shape of label tensor:', y_test.shape)"
      ],
      "execution_count": null,
      "outputs": [
        {
          "output_type": "stream",
          "text": [
            "Shape of label tensor: (1266, 2)\n"
          ],
          "name": "stdout"
        }
      ]
    },
    {
      "cell_type": "code",
      "metadata": {
        "id": "0T2tlmQtJd0O",
        "colab": {
          "base_uri": "https://localhost:8080/"
        },
        "outputId": "f18db093-62ea-4c4a-e5e0-f2853387451d"
      },
      "source": [
        "accr = model.evaluate(X_test,y_test)\n",
        "print('Test set\\n  Loss: {:0.3f}\\n  Accuracy: {:0.3f}'.format(accr[0],accr[1]))"
      ],
      "execution_count": null,
      "outputs": [
        {
          "output_type": "stream",
          "text": [
            "40/40 [==============================] - 1s 13ms/step - loss: 1.4731 - binary_accuracy: 0.5340\n",
            "Test set\n",
            "  Loss: 1.473\n",
            "  Accuracy: 0.534\n"
          ],
          "name": "stdout"
        }
      ]
    },
    {
      "cell_type": "code",
      "metadata": {
        "id": "gafFyokqtr2Z",
        "colab": {
          "base_uri": "https://localhost:8080/",
          "height": 281
        },
        "outputId": "f1e15993-7e2a-41d1-f39d-e8a59d08a02b"
      },
      "source": [
        "plt.title('Loss')\n",
        "plt.plot(history.history['loss'], label='train')\n",
        "plt.plot(history.history['val_loss'], label='valid')\n",
        "plt.legend()\n",
        "plt.show()"
      ],
      "execution_count": null,
      "outputs": [
        {
          "output_type": "display_data",
          "data": {
            "image/png": "[encoded data removed]",
            "text/plain": [
              "<Figure size 432x288 with 1 Axes>"
            ]
          },
          "metadata": {
            "tags": [],
            "needs_background": "light"
          }
        }
      ]
    },
    {
      "cell_type": "code",
      "metadata": {
        "id": "WcZ2-1nYxv7I",
        "colab": {
          "base_uri": "https://localhost:8080/"
        },
        "outputId": "c0d07d1c-da32-4384-a1e8-45dde5e08196"
      },
      "source": [
        "for key in history.history.keys():\n",
        "    print(key)"
      ],
      "execution_count": null,
      "outputs": [
        {
          "output_type": "stream",
          "text": [
            "loss\n",
            "binary_accuracy\n",
            "val_loss\n",
            "val_binary_accuracy\n"
          ],
          "name": "stdout"
        }
      ]
    },
    {
      "cell_type": "code",
      "metadata": {
        "id": "-IJKApWvt1vc",
        "colab": {
          "base_uri": "https://localhost:8080/",
          "height": 281
        },
        "outputId": "845ef8e4-528b-49da-e363-72ff566bf11a"
      },
      "source": [
        "plt.title('Accuracy')\n",
        "plt.plot(history.history['binary_accuracy'], label='train')\n",
        "plt.plot(history.history['val_binary_accuracy'], label='valid')\n",
        "plt.legend()\n",
        "plt.show();"
      ],
      "execution_count": null,
      "outputs": [
        {
          "output_type": "display_data",
          "data": {
            "image/png": "[encoded data removed]",
            "text/plain": [
              "<Figure size 432x288 with 1 Axes>"
            ]
          },
          "metadata": {
            "tags": [],
            "needs_background": "light"
          }
        }
      ]
    }
  ]
}