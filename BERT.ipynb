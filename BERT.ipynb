{
  "nbformat": 4,
  "nbformat_minor": 0,
  "metadata": {
    "colab": {
      "name": "BERT.ipynb",
      "provenance": [],
      "collapsed_sections": [],
      "include_colab_link": true
    },
    "kernelspec": {
      "name": "python3",
      "display_name": "Python 3"
    },
    "language_info": {
      "name": "python"
    },
    "accelerator": "GPU",
    "widgets": {
      "application/vnd.jupyter.widget-state+json": {
        "cf369f8e84aa4f0f8c3513d63784af17": {
          "model_module": "@jupyter-widgets/controls",
          "model_name": "HBoxModel",
          "state": {
            "_view_name": "HBoxView",
            "_dom_classes": [],
            "_model_name": "HBoxModel",
            "_view_module": "@jupyter-widgets/controls",
            "_model_module_version": "1.5.0",
            "_view_count": null,
            "_view_module_version": "1.5.0",
            "box_style": "",
            "layout": "IPY_MODEL_f103cc13de9042f1bf838beb4f17c734",
            "_model_module": "@jupyter-widgets/controls",
            "children": [
              "IPY_MODEL_4874d5f7505945098530e5cf3220f0fe",
              "IPY_MODEL_e96d9ef671514dc6982b06e2dd95fc81"
            ]
          }
        },
        "f103cc13de9042f1bf838beb4f17c734": {
          "model_module": "@jupyter-widgets/base",
          "model_name": "LayoutModel",
          "state": {
            "_view_name": "LayoutView",
            "grid_template_rows": null,
            "right": null,
            "justify_content": null,
            "_view_module": "@jupyter-widgets/base",
            "overflow": null,
            "_model_module_version": "1.2.0",
            "_view_count": null,
            "flex_flow": null,
            "width": null,
            "min_width": null,
            "border": null,
            "align_items": null,
            "bottom": null,
            "_model_module": "@jupyter-widgets/base",
            "top": null,
            "grid_column": null,
            "overflow_y": null,
            "overflow_x": null,
            "grid_auto_flow": null,
            "grid_area": null,
            "grid_template_columns": null,
            "flex": null,
            "_model_name": "LayoutModel",
            "justify_items": null,
            "grid_row": null,
            "max_height": null,
            "align_content": null,
            "visibility": null,
            "align_self": null,
            "height": null,
            "min_height": null,
            "padding": null,
            "grid_auto_rows": null,
            "grid_gap": null,
            "max_width": null,
            "order": null,
            "_view_module_version": "1.2.0",
            "grid_template_areas": null,
            "object_position": null,
            "object_fit": null,
            "grid_auto_columns": null,
            "margin": null,
            "display": null,
            "left": null
          }
        },
        "4874d5f7505945098530e5cf3220f0fe": {
          "model_module": "@jupyter-widgets/controls",
          "model_name": "FloatProgressModel",
          "state": {
            "_view_name": "ProgressView",
            "style": "IPY_MODEL_4b3a15f650b547aca4a0235edb2c7fa1",
            "_dom_classes": [],
            "description": "Downloading: 100%",
            "_model_name": "FloatProgressModel",
            "bar_style": "success",
            "max": 213450,
            "_view_module": "@jupyter-widgets/controls",
            "_model_module_version": "1.5.0",
            "value": 213450,
            "_view_count": null,
            "_view_module_version": "1.5.0",
            "orientation": "horizontal",
            "min": 0,
            "description_tooltip": null,
            "_model_module": "@jupyter-widgets/controls",
            "layout": "IPY_MODEL_3c045de621fd4e41a4112ccb0582acdd"
          }
        },
        "e96d9ef671514dc6982b06e2dd95fc81": {
          "model_module": "@jupyter-widgets/controls",
          "model_name": "HTMLModel",
          "state": {
            "_view_name": "HTMLView",
            "style": "IPY_MODEL_83b61842c0fa4e3fb3ca6383f24db8ab",
            "_dom_classes": [],
            "description": "",
            "_model_name": "HTMLModel",
            "placeholder": "​",
            "_view_module": "@jupyter-widgets/controls",
            "_model_module_version": "1.5.0",
            "value": " 213k/213k [00:01&lt;00:00, 110kB/s]",
            "_view_count": null,
            "_view_module_version": "1.5.0",
            "description_tooltip": null,
            "_model_module": "@jupyter-widgets/controls",
            "layout": "IPY_MODEL_a12931f7fb3e4d638df2ff32f8d1d6af"
          }
        },
        "4b3a15f650b547aca4a0235edb2c7fa1": {
          "model_module": "@jupyter-widgets/controls",
          "model_name": "ProgressStyleModel",
          "state": {
            "_view_name": "StyleView",
            "_model_name": "ProgressStyleModel",
            "description_width": "initial",
            "_view_module": "@jupyter-widgets/base",
            "_model_module_version": "1.5.0",
            "_view_count": null,
            "_view_module_version": "1.2.0",
            "bar_color": null,
            "_model_module": "@jupyter-widgets/controls"
          }
        },
        "3c045de621fd4e41a4112ccb0582acdd": {
          "model_module": "@jupyter-widgets/base",
          "model_name": "LayoutModel",
          "state": {
            "_view_name": "LayoutView",
            "grid_template_rows": null,
            "right": null,
            "justify_content": null,
            "_view_module": "@jupyter-widgets/base",
            "overflow": null,
            "_model_module_version": "1.2.0",
            "_view_count": null,
            "flex_flow": null,
            "width": null,
            "min_width": null,
            "border": null,
            "align_items": null,
            "bottom": null,
            "_model_module": "@jupyter-widgets/base",
            "top": null,
            "grid_column": null,
            "overflow_y": null,
            "overflow_x": null,
            "grid_auto_flow": null,
            "grid_area": null,
            "grid_template_columns": null,
            "flex": null,
            "_model_name": "LayoutModel",
            "justify_items": null,
            "grid_row": null,
            "max_height": null,
            "align_content": null,
            "visibility": null,
            "align_self": null,
            "height": null,
            "min_height": null,
            "padding": null,
            "grid_auto_rows": null,
            "grid_gap": null,
            "max_width": null,
            "order": null,
            "_view_module_version": "1.2.0",
            "grid_template_areas": null,
            "object_position": null,
            "object_fit": null,
            "grid_auto_columns": null,
            "margin": null,
            "display": null,
            "left": null
          }
        },
        "83b61842c0fa4e3fb3ca6383f24db8ab": {
          "model_module": "@jupyter-widgets/controls",
          "model_name": "DescriptionStyleModel",
          "state": {
            "_view_name": "StyleView",
            "_model_name": "DescriptionStyleModel",
            "description_width": "",
            "_view_module": "@jupyter-widgets/base",
            "_model_module_version": "1.5.0",
            "_view_count": null,
            "_view_module_version": "1.2.0",
            "_model_module": "@jupyter-widgets/controls"
          }
        },
        "a12931f7fb3e4d638df2ff32f8d1d6af": {
          "model_module": "@jupyter-widgets/base",
          "model_name": "LayoutModel",
          "state": {
            "_view_name": "LayoutView",
            "grid_template_rows": null,
            "right": null,
            "justify_content": null,
            "_view_module": "@jupyter-widgets/base",
            "overflow": null,
            "_model_module_version": "1.2.0",
            "_view_count": null,
            "flex_flow": null,
            "width": null,
            "min_width": null,
            "border": null,
            "align_items": null,
            "bottom": null,
            "_model_module": "@jupyter-widgets/base",
            "top": null,
            "grid_column": null,
            "overflow_y": null,
            "overflow_x": null,
            "grid_auto_flow": null,
            "grid_area": null,
            "grid_template_columns": null,
            "flex": null,
            "_model_name": "LayoutModel",
            "justify_items": null,
            "grid_row": null,
            "max_height": null,
            "align_content": null,
            "visibility": null,
            "align_self": null,
            "height": null,
            "min_height": null,
            "padding": null,
            "grid_auto_rows": null,
            "grid_gap": null,
            "max_width": null,
            "order": null,
            "_view_module_version": "1.2.0",
            "grid_template_areas": null,
            "object_position": null,
            "object_fit": null,
            "grid_auto_columns": null,
            "margin": null,
            "display": null,
            "left": null
          }
        },
        "61c8e21838814de3a7cd2ed731bb3030": {
          "model_module": "@jupyter-widgets/controls",
          "model_name": "HBoxModel",
          "state": {
            "_view_name": "HBoxView",
            "_dom_classes": [],
            "_model_name": "HBoxModel",
            "_view_module": "@jupyter-widgets/controls",
            "_model_module_version": "1.5.0",
            "_view_count": null,
            "_view_module_version": "1.5.0",
            "box_style": "",
            "layout": "IPY_MODEL_c493c4f8c8e64c35985f6b33264938d1",
            "_model_module": "@jupyter-widgets/controls",
            "children": [
              "IPY_MODEL_17d629bcae374fe4a1e34a2884fc8458",
              "IPY_MODEL_17cd7617223a456bbb92944f7134a534"
            ]
          }
        },
        "c493c4f8c8e64c35985f6b33264938d1": {
          "model_module": "@jupyter-widgets/base",
          "model_name": "LayoutModel",
          "state": {
            "_view_name": "LayoutView",
            "grid_template_rows": null,
            "right": null,
            "justify_content": null,
            "_view_module": "@jupyter-widgets/base",
            "overflow": null,
            "_model_module_version": "1.2.0",
            "_view_count": null,
            "flex_flow": null,
            "width": null,
            "min_width": null,
            "border": null,
            "align_items": null,
            "bottom": null,
            "_model_module": "@jupyter-widgets/base",
            "top": null,
            "grid_column": null,
            "overflow_y": null,
            "overflow_x": null,
            "grid_auto_flow": null,
            "grid_area": null,
            "grid_template_columns": null,
            "flex": null,
            "_model_name": "LayoutModel",
            "justify_items": null,
            "grid_row": null,
            "max_height": null,
            "align_content": null,
            "visibility": null,
            "align_self": null,
            "height": null,
            "min_height": null,
            "padding": null,
            "grid_auto_rows": null,
            "grid_gap": null,
            "max_width": null,
            "order": null,
            "_view_module_version": "1.2.0",
            "grid_template_areas": null,
            "object_position": null,
            "object_fit": null,
            "grid_auto_columns": null,
            "margin": null,
            "display": null,
            "left": null
          }
        },
        "17d629bcae374fe4a1e34a2884fc8458": {
          "model_module": "@jupyter-widgets/controls",
          "model_name": "FloatProgressModel",
          "state": {
            "_view_name": "ProgressView",
            "style": "IPY_MODEL_3cf3e704a71a466e8f5930a114d5dcd8",
            "_dom_classes": [],
            "description": "Downloading: 100%",
            "_model_name": "FloatProgressModel",
            "bar_style": "success",
            "max": 29,
            "_view_module": "@jupyter-widgets/controls",
            "_model_module_version": "1.5.0",
            "value": 29,
            "_view_count": null,
            "_view_module_version": "1.5.0",
            "orientation": "horizontal",
            "min": 0,
            "description_tooltip": null,
            "_model_module": "@jupyter-widgets/controls",
            "layout": "IPY_MODEL_8d8077f3689344aeae97327780f624c7"
          }
        },
        "17cd7617223a456bbb92944f7134a534": {
          "model_module": "@jupyter-widgets/controls",
          "model_name": "HTMLModel",
          "state": {
            "_view_name": "HTMLView",
            "style": "IPY_MODEL_410af3dd060e4d9895676017706928cf",
            "_dom_classes": [],
            "description": "",
            "_model_name": "HTMLModel",
            "placeholder": "​",
            "_view_module": "@jupyter-widgets/controls",
            "_model_module_version": "1.5.0",
            "value": " 29.0/29.0 [00:00&lt;00:00, 35.5B/s]",
            "_view_count": null,
            "_view_module_version": "1.5.0",
            "description_tooltip": null,
            "_model_module": "@jupyter-widgets/controls",
            "layout": "IPY_MODEL_fa0c31c46f5947f4a3711a5c482ef1cc"
          }
        },
        "3cf3e704a71a466e8f5930a114d5dcd8": {
          "model_module": "@jupyter-widgets/controls",
          "model_name": "ProgressStyleModel",
          "state": {
            "_view_name": "StyleView",
            "_model_name": "ProgressStyleModel",
            "description_width": "initial",
            "_view_module": "@jupyter-widgets/base",
            "_model_module_version": "1.5.0",
            "_view_count": null,
            "_view_module_version": "1.2.0",
            "bar_color": null,
            "_model_module": "@jupyter-widgets/controls"
          }
        },
        "8d8077f3689344aeae97327780f624c7": {
          "model_module": "@jupyter-widgets/base",
          "model_name": "LayoutModel",
          "state": {
            "_view_name": "LayoutView",
            "grid_template_rows": null,
            "right": null,
            "justify_content": null,
            "_view_module": "@jupyter-widgets/base",
            "overflow": null,
            "_model_module_version": "1.2.0",
            "_view_count": null,
            "flex_flow": null,
            "width": null,
            "min_width": null,
            "border": null,
            "align_items": null,
            "bottom": null,
            "_model_module": "@jupyter-widgets/base",
            "top": null,
            "grid_column": null,
            "overflow_y": null,
            "overflow_x": null,
            "grid_auto_flow": null,
            "grid_area": null,
            "grid_template_columns": null,
            "flex": null,
            "_model_name": "LayoutModel",
            "justify_items": null,
            "grid_row": null,
            "max_height": null,
            "align_content": null,
            "visibility": null,
            "align_self": null,
            "height": null,
            "min_height": null,
            "padding": null,
            "grid_auto_rows": null,
            "grid_gap": null,
            "max_width": null,
            "order": null,
            "_view_module_version": "1.2.0",
            "grid_template_areas": null,
            "object_position": null,
            "object_fit": null,
            "grid_auto_columns": null,
            "margin": null,
            "display": null,
            "left": null
          }
        },
        "410af3dd060e4d9895676017706928cf": {
          "model_module": "@jupyter-widgets/controls",
          "model_name": "DescriptionStyleModel",
          "state": {
            "_view_name": "StyleView",
            "_model_name": "DescriptionStyleModel",
            "description_width": "",
            "_view_module": "@jupyter-widgets/base",
            "_model_module_version": "1.5.0",
            "_view_count": null,
            "_view_module_version": "1.2.0",
            "_model_module": "@jupyter-widgets/controls"
          }
        },
        "fa0c31c46f5947f4a3711a5c482ef1cc": {
          "model_module": "@jupyter-widgets/base",
          "model_name": "LayoutModel",
          "state": {
            "_view_name": "LayoutView",
            "grid_template_rows": null,
            "right": null,
            "justify_content": null,
            "_view_module": "@jupyter-widgets/base",
            "overflow": null,
            "_model_module_version": "1.2.0",
            "_view_count": null,
            "flex_flow": null,
            "width": null,
            "min_width": null,
            "border": null,
            "align_items": null,
            "bottom": null,
            "_model_module": "@jupyter-widgets/base",
            "top": null,
            "grid_column": null,
            "overflow_y": null,
            "overflow_x": null,
            "grid_auto_flow": null,
            "grid_area": null,
            "grid_template_columns": null,
            "flex": null,
            "_model_name": "LayoutModel",
            "justify_items": null,
            "grid_row": null,
            "max_height": null,
            "align_content": null,
            "visibility": null,
            "align_self": null,
            "height": null,
            "min_height": null,
            "padding": null,
            "grid_auto_rows": null,
            "grid_gap": null,
            "max_width": null,
            "order": null,
            "_view_module_version": "1.2.0",
            "grid_template_areas": null,
            "object_position": null,
            "object_fit": null,
            "grid_auto_columns": null,
            "margin": null,
            "display": null,
            "left": null
          }
        },
        "7a479e1267184e879cdc848dd32a2cdc": {
          "model_module": "@jupyter-widgets/controls",
          "model_name": "HBoxModel",
          "state": {
            "_view_name": "HBoxView",
            "_dom_classes": [],
            "_model_name": "HBoxModel",
            "_view_module": "@jupyter-widgets/controls",
            "_model_module_version": "1.5.0",
            "_view_count": null,
            "_view_module_version": "1.5.0",
            "box_style": "",
            "layout": "IPY_MODEL_d9e5b0a5dfbc4fb0a27ff8b766bdfdb6",
            "_model_module": "@jupyter-widgets/controls",
            "children": [
              "IPY_MODEL_68849d57e05144b995f7317c9e7e38cf",
              "IPY_MODEL_23cf43ce9ac7471da18ac76f6263fa57"
            ]
          }
        },
        "d9e5b0a5dfbc4fb0a27ff8b766bdfdb6": {
          "model_module": "@jupyter-widgets/base",
          "model_name": "LayoutModel",
          "state": {
            "_view_name": "LayoutView",
            "grid_template_rows": null,
            "right": null,
            "justify_content": null,
            "_view_module": "@jupyter-widgets/base",
            "overflow": null,
            "_model_module_version": "1.2.0",
            "_view_count": null,
            "flex_flow": null,
            "width": null,
            "min_width": null,
            "border": null,
            "align_items": null,
            "bottom": null,
            "_model_module": "@jupyter-widgets/base",
            "top": null,
            "grid_column": null,
            "overflow_y": null,
            "overflow_x": null,
            "grid_auto_flow": null,
            "grid_area": null,
            "grid_template_columns": null,
            "flex": null,
            "_model_name": "LayoutModel",
            "justify_items": null,
            "grid_row": null,
            "max_height": null,
            "align_content": null,
            "visibility": null,
            "align_self": null,
            "height": null,
            "min_height": null,
            "padding": null,
            "grid_auto_rows": null,
            "grid_gap": null,
            "max_width": null,
            "order": null,
            "_view_module_version": "1.2.0",
            "grid_template_areas": null,
            "object_position": null,
            "object_fit": null,
            "grid_auto_columns": null,
            "margin": null,
            "display": null,
            "left": null
          }
        },
        "68849d57e05144b995f7317c9e7e38cf": {
          "model_module": "@jupyter-widgets/controls",
          "model_name": "FloatProgressModel",
          "state": {
            "_view_name": "ProgressView",
            "style": "IPY_MODEL_efb9ecd9abe744deb5fc7e025fdcbf7d",
            "_dom_classes": [],
            "description": "Downloading: 100%",
            "_model_name": "FloatProgressModel",
            "bar_style": "success",
            "max": 435797,
            "_view_module": "@jupyter-widgets/controls",
            "_model_module_version": "1.5.0",
            "value": 435797,
            "_view_count": null,
            "_view_module_version": "1.5.0",
            "orientation": "horizontal",
            "min": 0,
            "description_tooltip": null,
            "_model_module": "@jupyter-widgets/controls",
            "layout": "IPY_MODEL_4b90039d2ed64a649a3323f77782c14c"
          }
        },
        "23cf43ce9ac7471da18ac76f6263fa57": {
          "model_module": "@jupyter-widgets/controls",
          "model_name": "HTMLModel",
          "state": {
            "_view_name": "HTMLView",
            "style": "IPY_MODEL_648e78cc5a9b49129b891d289b0b743b",
            "_dom_classes": [],
            "description": "",
            "_model_name": "HTMLModel",
            "placeholder": "​",
            "_view_module": "@jupyter-widgets/controls",
            "_model_module_version": "1.5.0",
            "value": " 436k/436k [00:00&lt;00:00, 1.25MB/s]",
            "_view_count": null,
            "_view_module_version": "1.5.0",
            "description_tooltip": null,
            "_model_module": "@jupyter-widgets/controls",
            "layout": "IPY_MODEL_a342015932114c0f91310166c3bb0757"
          }
        },
        "efb9ecd9abe744deb5fc7e025fdcbf7d": {
          "model_module": "@jupyter-widgets/controls",
          "model_name": "ProgressStyleModel",
          "state": {
            "_view_name": "StyleView",
            "_model_name": "ProgressStyleModel",
            "description_width": "initial",
            "_view_module": "@jupyter-widgets/base",
            "_model_module_version": "1.5.0",
            "_view_count": null,
            "_view_module_version": "1.2.0",
            "bar_color": null,
            "_model_module": "@jupyter-widgets/controls"
          }
        },
        "4b90039d2ed64a649a3323f77782c14c": {
          "model_module": "@jupyter-widgets/base",
          "model_name": "LayoutModel",
          "state": {
            "_view_name": "LayoutView",
            "grid_template_rows": null,
            "right": null,
            "justify_content": null,
            "_view_module": "@jupyter-widgets/base",
            "overflow": null,
            "_model_module_version": "1.2.0",
            "_view_count": null,
            "flex_flow": null,
            "width": null,
            "min_width": null,
            "border": null,
            "align_items": null,
            "bottom": null,
            "_model_module": "@jupyter-widgets/base",
            "top": null,
            "grid_column": null,
            "overflow_y": null,
            "overflow_x": null,
            "grid_auto_flow": null,
            "grid_area": null,
            "grid_template_columns": null,
            "flex": null,
            "_model_name": "LayoutModel",
            "justify_items": null,
            "grid_row": null,
            "max_height": null,
            "align_content": null,
            "visibility": null,
            "align_self": null,
            "height": null,
            "min_height": null,
            "padding": null,
            "grid_auto_rows": null,
            "grid_gap": null,
            "max_width": null,
            "order": null,
            "_view_module_version": "1.2.0",
            "grid_template_areas": null,
            "object_position": null,
            "object_fit": null,
            "grid_auto_columns": null,
            "margin": null,
            "display": null,
            "left": null
          }
        },
        "648e78cc5a9b49129b891d289b0b743b": {
          "model_module": "@jupyter-widgets/controls",
          "model_name": "DescriptionStyleModel",
          "state": {
            "_view_name": "StyleView",
            "_model_name": "DescriptionStyleModel",
            "description_width": "",
            "_view_module": "@jupyter-widgets/base",
            "_model_module_version": "1.5.0",
            "_view_count": null,
            "_view_module_version": "1.2.0",
            "_model_module": "@jupyter-widgets/controls"
          }
        },
        "a342015932114c0f91310166c3bb0757": {
          "model_module": "@jupyter-widgets/base",
          "model_name": "LayoutModel",
          "state": {
            "_view_name": "LayoutView",
            "grid_template_rows": null,
            "right": null,
            "justify_content": null,
            "_view_module": "@jupyter-widgets/base",
            "overflow": null,
            "_model_module_version": "1.2.0",
            "_view_count": null,
            "flex_flow": null,
            "width": null,
            "min_width": null,
            "border": null,
            "align_items": null,
            "bottom": null,
            "_model_module": "@jupyter-widgets/base",
            "top": null,
            "grid_column": null,
            "overflow_y": null,
            "overflow_x": null,
            "grid_auto_flow": null,
            "grid_area": null,
            "grid_template_columns": null,
            "flex": null,
            "_model_name": "LayoutModel",
            "justify_items": null,
            "grid_row": null,
            "max_height": null,
            "align_content": null,
            "visibility": null,
            "align_self": null,
            "height": null,
            "min_height": null,
            "padding": null,
            "grid_auto_rows": null,
            "grid_gap": null,
            "max_width": null,
            "order": null,
            "_view_module_version": "1.2.0",
            "grid_template_areas": null,
            "object_position": null,
            "object_fit": null,
            "grid_auto_columns": null,
            "margin": null,
            "display": null,
            "left": null
          }
        }
      }
    }
  },
  "cells": [
    {
      "cell_type": "markdown",
      "metadata": {
        "id": "view-in-github",
        "colab_type": "text"
      },
      "source": [
        "<a href=\"https://colab.research.google.com/github/srushtinandu/ML-Project/blob/main/BERT.ipynb\" target=\"_parent\"><img src=\"https://colab.research.google.com/assets/colab-badge.svg\" alt=\"Open In Colab\"/></a>"
      ]
    },
    {
      "cell_type": "markdown",
      "metadata": {
        "id": "c9gVi5aFnr2S"
      },
      "source": [
        "## Installing Libraries\n",
        "We install transformers library that will help us in our neual network framework. "
      ]
    },
    {
      "cell_type": "code",
      "metadata": {
        "colab": {
          "base_uri": "https://localhost:8080/"
        },
        "cellView": "code",
        "id": "b7hoDME-Nup9",
        "outputId": "b9c7f9f3-a0e8-4957-f018-98c093609ef7"
      },
      "source": [
        "pip install transformers"
      ],
      "execution_count": 1,
      "outputs": [
        {
          "output_type": "stream",
          "text": [
            "Collecting transformers\n",
            "\u001b[?25l  Downloading https://files.pythonhosted.org/packages/d8/b2/57495b5309f09fa501866e225c84532d1fd89536ea62406b2181933fb418/transformers-4.5.1-py3-none-any.whl (2.1MB)\n",
            "\r\u001b[K     |▏                               | 10kB 19.6MB/s eta 0:00:01\r\u001b[K     |▎                               | 20kB 22.8MB/s eta 0:00:01\r\u001b[K     |▌                               | 30kB 16.6MB/s eta 0:00:01\r\u001b[K     |▋                               | 40kB 15.7MB/s eta 0:00:01\r\u001b[K     |▉                               | 51kB 8.9MB/s eta 0:00:01\r\u001b[K     |█                               | 61kB 10.2MB/s eta 0:00:01\r\u001b[K     |█▏                              | 71kB 8.8MB/s eta 0:00:01\r\u001b[K     |█▎                              | 81kB 9.6MB/s eta 0:00:01\r\u001b[K     |█▍                              | 92kB 10.2MB/s eta 0:00:01\r\u001b[K     |█▋                              | 102kB 8.5MB/s eta 0:00:01\r\u001b[K     |█▊                              | 112kB 8.5MB/s eta 0:00:01\r\u001b[K     |██                              | 122kB 8.5MB/s eta 0:00:01\r\u001b[K     |██                              | 133kB 8.5MB/s eta 0:00:01\r\u001b[K     |██▎                             | 143kB 8.5MB/s eta 0:00:01\r\u001b[K     |██▍                             | 153kB 8.5MB/s eta 0:00:01\r\u001b[K     |██▌                             | 163kB 8.5MB/s eta 0:00:01\r\u001b[K     |██▊                             | 174kB 8.5MB/s eta 0:00:01\r\u001b[K     |██▉                             | 184kB 8.5MB/s eta 0:00:01\r\u001b[K     |███                             | 194kB 8.5MB/s eta 0:00:01\r\u001b[K     |███▏                            | 204kB 8.5MB/s eta 0:00:01\r\u001b[K     |███▍                            | 215kB 8.5MB/s eta 0:00:01\r\u001b[K     |███▌                            | 225kB 8.5MB/s eta 0:00:01\r\u001b[K     |███▋                            | 235kB 8.5MB/s eta 0:00:01\r\u001b[K     |███▉                            | 245kB 8.5MB/s eta 0:00:01\r\u001b[K     |████                            | 256kB 8.5MB/s eta 0:00:01\r\u001b[K     |████▏                           | 266kB 8.5MB/s eta 0:00:01\r\u001b[K     |████▎                           | 276kB 8.5MB/s eta 0:00:01\r\u001b[K     |████▌                           | 286kB 8.5MB/s eta 0:00:01\r\u001b[K     |████▋                           | 296kB 8.5MB/s eta 0:00:01\r\u001b[K     |████▊                           | 307kB 8.5MB/s eta 0:00:01\r\u001b[K     |█████                           | 317kB 8.5MB/s eta 0:00:01\r\u001b[K     |█████                           | 327kB 8.5MB/s eta 0:00:01\r\u001b[K     |█████▎                          | 337kB 8.5MB/s eta 0:00:01\r\u001b[K     |█████▍                          | 348kB 8.5MB/s eta 0:00:01\r\u001b[K     |█████▋                          | 358kB 8.5MB/s eta 0:00:01\r\u001b[K     |█████▊                          | 368kB 8.5MB/s eta 0:00:01\r\u001b[K     |█████▉                          | 378kB 8.5MB/s eta 0:00:01\r\u001b[K     |██████                          | 389kB 8.5MB/s eta 0:00:01\r\u001b[K     |██████▏                         | 399kB 8.5MB/s eta 0:00:01\r\u001b[K     |██████▍                         | 409kB 8.5MB/s eta 0:00:01\r\u001b[K     |██████▌                         | 419kB 8.5MB/s eta 0:00:01\r\u001b[K     |██████▊                         | 430kB 8.5MB/s eta 0:00:01\r\u001b[K     |██████▉                         | 440kB 8.5MB/s eta 0:00:01\r\u001b[K     |███████                         | 450kB 8.5MB/s eta 0:00:01\r\u001b[K     |███████▏                        | 460kB 8.5MB/s eta 0:00:01\r\u001b[K     |███████▎                        | 471kB 8.5MB/s eta 0:00:01\r\u001b[K     |███████▌                        | 481kB 8.5MB/s eta 0:00:01\r\u001b[K     |███████▋                        | 491kB 8.5MB/s eta 0:00:01\r\u001b[K     |███████▉                        | 501kB 8.5MB/s eta 0:00:01\r\u001b[K     |████████                        | 512kB 8.5MB/s eta 0:00:01\r\u001b[K     |████████                        | 522kB 8.5MB/s eta 0:00:01\r\u001b[K     |████████▎                       | 532kB 8.5MB/s eta 0:00:01\r\u001b[K     |████████▍                       | 542kB 8.5MB/s eta 0:00:01\r\u001b[K     |████████▋                       | 552kB 8.5MB/s eta 0:00:01\r\u001b[K     |████████▊                       | 563kB 8.5MB/s eta 0:00:01\r\u001b[K     |█████████                       | 573kB 8.5MB/s eta 0:00:01\r\u001b[K     |█████████                       | 583kB 8.5MB/s eta 0:00:01\r\u001b[K     |█████████▎                      | 593kB 8.5MB/s eta 0:00:01\r\u001b[K     |█████████▍                      | 604kB 8.5MB/s eta 0:00:01\r\u001b[K     |█████████▌                      | 614kB 8.5MB/s eta 0:00:01\r\u001b[K     |█████████▊                      | 624kB 8.5MB/s eta 0:00:01\r\u001b[K     |█████████▉                      | 634kB 8.5MB/s eta 0:00:01\r\u001b[K     |██████████                      | 645kB 8.5MB/s eta 0:00:01\r\u001b[K     |██████████▏                     | 655kB 8.5MB/s eta 0:00:01\r\u001b[K     |██████████▍                     | 665kB 8.5MB/s eta 0:00:01\r\u001b[K     |██████████▌                     | 675kB 8.5MB/s eta 0:00:01\r\u001b[K     |██████████▋                     | 686kB 8.5MB/s eta 0:00:01\r\u001b[K     |██████████▉                     | 696kB 8.5MB/s eta 0:00:01\r\u001b[K     |███████████                     | 706kB 8.5MB/s eta 0:00:01\r\u001b[K     |███████████▏                    | 716kB 8.5MB/s eta 0:00:01\r\u001b[K     |███████████▎                    | 727kB 8.5MB/s eta 0:00:01\r\u001b[K     |███████████▌                    | 737kB 8.5MB/s eta 0:00:01\r\u001b[K     |███████████▋                    | 747kB 8.5MB/s eta 0:00:01\r\u001b[K     |███████████▊                    | 757kB 8.5MB/s eta 0:00:01\r\u001b[K     |████████████                    | 768kB 8.5MB/s eta 0:00:01\r\u001b[K     |████████████                    | 778kB 8.5MB/s eta 0:00:01\r\u001b[K     |████████████▎                   | 788kB 8.5MB/s eta 0:00:01\r\u001b[K     |████████████▍                   | 798kB 8.5MB/s eta 0:00:01\r\u001b[K     |████████████▋                   | 808kB 8.5MB/s eta 0:00:01\r\u001b[K     |████████████▊                   | 819kB 8.5MB/s eta 0:00:01\r\u001b[K     |████████████▉                   | 829kB 8.5MB/s eta 0:00:01\r\u001b[K     |█████████████                   | 839kB 8.5MB/s eta 0:00:01\r\u001b[K     |█████████████▏                  | 849kB 8.5MB/s eta 0:00:01\r\u001b[K     |█████████████▍                  | 860kB 8.5MB/s eta 0:00:01\r\u001b[K     |█████████████▌                  | 870kB 8.5MB/s eta 0:00:01\r\u001b[K     |█████████████▊                  | 880kB 8.5MB/s eta 0:00:01\r\u001b[K     |█████████████▉                  | 890kB 8.5MB/s eta 0:00:01\r\u001b[K     |██████████████                  | 901kB 8.5MB/s eta 0:00:01\r\u001b[K     |██████████████▏                 | 911kB 8.5MB/s eta 0:00:01\r\u001b[K     |██████████████▎                 | 921kB 8.5MB/s eta 0:00:01\r\u001b[K     |██████████████▌                 | 931kB 8.5MB/s eta 0:00:01\r\u001b[K     |██████████████▋                 | 942kB 8.5MB/s eta 0:00:01\r\u001b[K     |██████████████▉                 | 952kB 8.5MB/s eta 0:00:01\r\u001b[K     |███████████████                 | 962kB 8.5MB/s eta 0:00:01\r\u001b[K     |███████████████                 | 972kB 8.5MB/s eta 0:00:01\r\u001b[K     |███████████████▎                | 983kB 8.5MB/s eta 0:00:01\r\u001b[K     |███████████████▍                | 993kB 8.5MB/s eta 0:00:01\r\u001b[K     |███████████████▋                | 1.0MB 8.5MB/s eta 0:00:01\r\u001b[K     |███████████████▊                | 1.0MB 8.5MB/s eta 0:00:01\r\u001b[K     |████████████████                | 1.0MB 8.5MB/s eta 0:00:01\r\u001b[K     |████████████████                | 1.0MB 8.5MB/s eta 0:00:01\r\u001b[K     |████████████████▏               | 1.0MB 8.5MB/s eta 0:00:01\r\u001b[K     |████████████████▍               | 1.1MB 8.5MB/s eta 0:00:01\r\u001b[K     |████████████████▌               | 1.1MB 8.5MB/s eta 0:00:01\r\u001b[K     |████████████████▊               | 1.1MB 8.5MB/s eta 0:00:01\r\u001b[K     |████████████████▉               | 1.1MB 8.5MB/s eta 0:00:01\r\u001b[K     |█████████████████               | 1.1MB 8.5MB/s eta 0:00:01\r\u001b[K     |█████████████████▏              | 1.1MB 8.5MB/s eta 0:00:01\r\u001b[K     |█████████████████▍              | 1.1MB 8.5MB/s eta 0:00:01\r\u001b[K     |█████████████████▌              | 1.1MB 8.5MB/s eta 0:00:01\r\u001b[K     |█████████████████▋              | 1.1MB 8.5MB/s eta 0:00:01\r\u001b[K     |█████████████████▉              | 1.1MB 8.5MB/s eta 0:00:01\r\u001b[K     |██████████████████              | 1.2MB 8.5MB/s eta 0:00:01\r\u001b[K     |██████████████████▏             | 1.2MB 8.5MB/s eta 0:00:01\r\u001b[K     |██████████████████▎             | 1.2MB 8.5MB/s eta 0:00:01\r\u001b[K     |██████████████████▌             | 1.2MB 8.5MB/s eta 0:00:01\r\u001b[K     |██████████████████▋             | 1.2MB 8.5MB/s eta 0:00:01\r\u001b[K     |██████████████████▊             | 1.2MB 8.5MB/s eta 0:00:01\r\u001b[K     |███████████████████             | 1.2MB 8.5MB/s eta 0:00:01\r\u001b[K     |███████████████████             | 1.2MB 8.5MB/s eta 0:00:01\r\u001b[K     |███████████████████▎            | 1.2MB 8.5MB/s eta 0:00:01\r\u001b[K     |███████████████████▍            | 1.2MB 8.5MB/s eta 0:00:01\r\u001b[K     |███████████████████▋            | 1.3MB 8.5MB/s eta 0:00:01\r\u001b[K     |███████████████████▊            | 1.3MB 8.5MB/s eta 0:00:01\r\u001b[K     |███████████████████▉            | 1.3MB 8.5MB/s eta 0:00:01\r\u001b[K     |████████████████████            | 1.3MB 8.5MB/s eta 0:00:01\r\u001b[K     |████████████████████▏           | 1.3MB 8.5MB/s eta 0:00:01\r\u001b[K     |████████████████████▍           | 1.3MB 8.5MB/s eta 0:00:01\r\u001b[K     |████████████████████▌           | 1.3MB 8.5MB/s eta 0:00:01\r\u001b[K     |████████████████████▊           | 1.3MB 8.5MB/s eta 0:00:01\r\u001b[K     |████████████████████▉           | 1.3MB 8.5MB/s eta 0:00:01\r\u001b[K     |█████████████████████           | 1.4MB 8.5MB/s eta 0:00:01\r\u001b[K     |█████████████████████▏          | 1.4MB 8.5MB/s eta 0:00:01\r\u001b[K     |█████████████████████▎          | 1.4MB 8.5MB/s eta 0:00:01\r\u001b[K     |█████████████████████▌          | 1.4MB 8.5MB/s eta 0:00:01\r\u001b[K     |█████████████████████▋          | 1.4MB 8.5MB/s eta 0:00:01\r\u001b[K     |█████████████████████▉          | 1.4MB 8.5MB/s eta 0:00:01\r\u001b[K     |██████████████████████          | 1.4MB 8.5MB/s eta 0:00:01\r\u001b[K     |██████████████████████          | 1.4MB 8.5MB/s eta 0:00:01\r\u001b[K     |██████████████████████▎         | 1.4MB 8.5MB/s eta 0:00:01\r\u001b[K     |██████████████████████▍         | 1.4MB 8.5MB/s eta 0:00:01\r\u001b[K     |██████████████████████▋         | 1.5MB 8.5MB/s eta 0:00:01\r\u001b[K     |██████████████████████▊         | 1.5MB 8.5MB/s eta 0:00:01\r\u001b[K     |███████████████████████         | 1.5MB 8.5MB/s eta 0:00:01\r\u001b[K     |███████████████████████         | 1.5MB 8.5MB/s eta 0:00:01\r\u001b[K     |███████████████████████▏        | 1.5MB 8.5MB/s eta 0:00:01\r\u001b[K     |███████████████████████▍        | 1.5MB 8.5MB/s eta 0:00:01\r\u001b[K     |███████████████████████▌        | 1.5MB 8.5MB/s eta 0:00:01\r\u001b[K     |███████████████████████▊        | 1.5MB 8.5MB/s eta 0:00:01\r\u001b[K     |███████████████████████▉        | 1.5MB 8.5MB/s eta 0:00:01\r\u001b[K     |████████████████████████        | 1.5MB 8.5MB/s eta 0:00:01\r\u001b[K     |████████████████████████▏       | 1.6MB 8.5MB/s eta 0:00:01\r\u001b[K     |████████████████████████▎       | 1.6MB 8.5MB/s eta 0:00:01\r\u001b[K     |████████████████████████▌       | 1.6MB 8.5MB/s eta 0:00:01\r\u001b[K     |████████████████████████▋       | 1.6MB 8.5MB/s eta 0:00:01\r\u001b[K     |████████████████████████▉       | 1.6MB 8.5MB/s eta 0:00:01\r\u001b[K     |█████████████████████████       | 1.6MB 8.5MB/s eta 0:00:01\r\u001b[K     |█████████████████████████▏      | 1.6MB 8.5MB/s eta 0:00:01\r\u001b[K     |█████████████████████████▎      | 1.6MB 8.5MB/s eta 0:00:01\r\u001b[K     |█████████████████████████▍      | 1.6MB 8.5MB/s eta 0:00:01\r\u001b[K     |█████████████████████████▋      | 1.6MB 8.5MB/s eta 0:00:01\r\u001b[K     |█████████████████████████▊      | 1.7MB 8.5MB/s eta 0:00:01\r\u001b[K     |██████████████████████████      | 1.7MB 8.5MB/s eta 0:00:01\r\u001b[K     |██████████████████████████      | 1.7MB 8.5MB/s eta 0:00:01\r\u001b[K     |██████████████████████████▎     | 1.7MB 8.5MB/s eta 0:00:01\r\u001b[K     |██████████████████████████▍     | 1.7MB 8.5MB/s eta 0:00:01\r\u001b[K     |██████████████████████████▋     | 1.7MB 8.5MB/s eta 0:00:01\r\u001b[K     |██████████████████████████▊     | 1.7MB 8.5MB/s eta 0:00:01\r\u001b[K     |██████████████████████████▉     | 1.7MB 8.5MB/s eta 0:00:01\r\u001b[K     |███████████████████████████     | 1.7MB 8.5MB/s eta 0:00:01\r\u001b[K     |███████████████████████████▏    | 1.8MB 8.5MB/s eta 0:00:01\r\u001b[K     |███████████████████████████▍    | 1.8MB 8.5MB/s eta 0:00:01\r\u001b[K     |███████████████████████████▌    | 1.8MB 8.5MB/s eta 0:00:01\r\u001b[K     |███████████████████████████▊    | 1.8MB 8.5MB/s eta 0:00:01\r\u001b[K     |███████████████████████████▉    | 1.8MB 8.5MB/s eta 0:00:01\r\u001b[K     |████████████████████████████    | 1.8MB 8.5MB/s eta 0:00:01\r\u001b[K     |████████████████████████████▏   | 1.8MB 8.5MB/s eta 0:00:01\r\u001b[K     |████████████████████████████▎   | 1.8MB 8.5MB/s eta 0:00:01\r\u001b[K     |████████████████████████████▌   | 1.8MB 8.5MB/s eta 0:00:01\r\u001b[K     |████████████████████████████▋   | 1.8MB 8.5MB/s eta 0:00:01\r\u001b[K     |████████████████████████████▉   | 1.9MB 8.5MB/s eta 0:00:01\r\u001b[K     |█████████████████████████████   | 1.9MB 8.5MB/s eta 0:00:01\r\u001b[K     |█████████████████████████████   | 1.9MB 8.5MB/s eta 0:00:01\r\u001b[K     |█████████████████████████████▎  | 1.9MB 8.5MB/s eta 0:00:01\r\u001b[K     |█████████████████████████████▍  | 1.9MB 8.5MB/s eta 0:00:01\r\u001b[K     |█████████████████████████████▋  | 1.9MB 8.5MB/s eta 0:00:01\r\u001b[K     |█████████████████████████████▊  | 1.9MB 8.5MB/s eta 0:00:01\r\u001b[K     |██████████████████████████████  | 1.9MB 8.5MB/s eta 0:00:01\r\u001b[K     |██████████████████████████████  | 1.9MB 8.5MB/s eta 0:00:01\r\u001b[K     |██████████████████████████████▏ | 1.9MB 8.5MB/s eta 0:00:01\r\u001b[K     |██████████████████████████████▍ | 2.0MB 8.5MB/s eta 0:00:01\r\u001b[K     |██████████████████████████████▌ | 2.0MB 8.5MB/s eta 0:00:01\r\u001b[K     |██████████████████████████████▊ | 2.0MB 8.5MB/s eta 0:00:01\r\u001b[K     |██████████████████████████████▉ | 2.0MB 8.5MB/s eta 0:00:01\r\u001b[K     |███████████████████████████████ | 2.0MB 8.5MB/s eta 0:00:01\r\u001b[K     |███████████████████████████████▏| 2.0MB 8.5MB/s eta 0:00:01\r\u001b[K     |███████████████████████████████▎| 2.0MB 8.5MB/s eta 0:00:01\r\u001b[K     |███████████████████████████████▌| 2.0MB 8.5MB/s eta 0:00:01\r\u001b[K     |███████████████████████████████▋| 2.0MB 8.5MB/s eta 0:00:01\r\u001b[K     |███████████████████████████████▉| 2.0MB 8.5MB/s eta 0:00:01\r\u001b[K     |████████████████████████████████| 2.1MB 8.5MB/s eta 0:00:01\r\u001b[K     |████████████████████████████████| 2.1MB 8.5MB/s \n",
            "\u001b[?25hRequirement already satisfied: regex!=2019.12.17 in /usr/local/lib/python3.7/dist-packages (from transformers) (2019.12.20)\n",
            "Requirement already satisfied: tqdm>=4.27 in /usr/local/lib/python3.7/dist-packages (from transformers) (4.41.1)\n",
            "Requirement already satisfied: numpy>=1.17 in /usr/local/lib/python3.7/dist-packages (from transformers) (1.19.5)\n",
            "Requirement already satisfied: requests in /usr/local/lib/python3.7/dist-packages (from transformers) (2.23.0)\n",
            "Collecting tokenizers<0.11,>=0.10.1\n",
            "\u001b[?25l  Downloading https://files.pythonhosted.org/packages/ae/04/5b870f26a858552025a62f1649c20d29d2672c02ff3c3fb4c688ca46467a/tokenizers-0.10.2-cp37-cp37m-manylinux2010_x86_64.whl (3.3MB)\n",
            "\u001b[K     |████████████████████████████████| 3.3MB 35.1MB/s \n",
            "\u001b[?25hCollecting sacremoses\n",
            "\u001b[?25l  Downloading https://files.pythonhosted.org/packages/75/ee/67241dc87f266093c533a2d4d3d69438e57d7a90abb216fa076e7d475d4a/sacremoses-0.0.45-py3-none-any.whl (895kB)\n",
            "\u001b[K     |████████████████████████████████| 901kB 33.9MB/s \n",
            "\u001b[?25hRequirement already satisfied: packaging in /usr/local/lib/python3.7/dist-packages (from transformers) (20.9)\n",
            "Requirement already satisfied: filelock in /usr/local/lib/python3.7/dist-packages (from transformers) (3.0.12)\n",
            "Requirement already satisfied: importlib-metadata; python_version < \"3.8\" in /usr/local/lib/python3.7/dist-packages (from transformers) (3.10.1)\n",
            "Requirement already satisfied: idna<3,>=2.5 in /usr/local/lib/python3.7/dist-packages (from requests->transformers) (2.10)\n",
            "Requirement already satisfied: certifi>=2017.4.17 in /usr/local/lib/python3.7/dist-packages (from requests->transformers) (2020.12.5)\n",
            "Requirement already satisfied: chardet<4,>=3.0.2 in /usr/local/lib/python3.7/dist-packages (from requests->transformers) (3.0.4)\n",
            "Requirement already satisfied: urllib3!=1.25.0,!=1.25.1,<1.26,>=1.21.1 in /usr/local/lib/python3.7/dist-packages (from requests->transformers) (1.24.3)\n",
            "Requirement already satisfied: joblib in /usr/local/lib/python3.7/dist-packages (from sacremoses->transformers) (1.0.1)\n",
            "Requirement already satisfied: click in /usr/local/lib/python3.7/dist-packages (from sacremoses->transformers) (7.1.2)\n",
            "Requirement already satisfied: six in /usr/local/lib/python3.7/dist-packages (from sacremoses->transformers) (1.15.0)\n",
            "Requirement already satisfied: pyparsing>=2.0.2 in /usr/local/lib/python3.7/dist-packages (from packaging->transformers) (2.4.7)\n",
            "Requirement already satisfied: typing-extensions>=3.6.4; python_version < \"3.8\" in /usr/local/lib/python3.7/dist-packages (from importlib-metadata; python_version < \"3.8\"->transformers) (3.7.4.3)\n",
            "Requirement already satisfied: zipp>=0.5 in /usr/local/lib/python3.7/dist-packages (from importlib-metadata; python_version < \"3.8\"->transformers) (3.4.1)\n",
            "Installing collected packages: tokenizers, sacremoses, transformers\n",
            "Successfully installed sacremoses-0.0.45 tokenizers-0.10.2 transformers-4.5.1\n"
          ],
          "name": "stdout"
        }
      ]
    },
    {
      "cell_type": "markdown",
      "metadata": {
        "id": "3UGqdPFhoYPW"
      },
      "source": [
        "## Importing packages and defining constants\n",
        "The packages we will use include matplotlib, pandas, PyTorch, which is our general-purpose deep learning library of choice"
      ]
    },
    {
      "cell_type": "code",
      "metadata": {
        "id": "JX5MFEkoKnHv"
      },
      "source": [
        "import transformers\n",
        "from transformers import BertModel, BertTokenizer, AdamW, get_linear_schedule_with_warmup\n",
        "import torch\n",
        "import numpy as np\n",
        "import pandas as pd\n",
        "import seaborn as sns\n",
        "from pylab import rcParams\n",
        "import matplotlib.pyplot as plt\n",
        "from matplotlib import rc\n",
        "from sklearn.model_selection import train_test_split\n",
        "from sklearn.metrics import confusion_matrix, classification_report\n",
        "from collections import defaultdict\n",
        "from textwrap import wrap\n",
        "from torch import nn, optim\n",
        "import torch.nn.functional as F\n",
        "from torch.utils.data import Dataset, DataLoader\n",
        "%matplotlib inline\n",
        "%config InlineBackend.figure_format='retina'\n",
        "sns.set(style='whitegrid', palette='muted', font_scale=1.2)\n",
        "HAPPY_COLORS_PALETTE = [\"#01BEFE\", \"#FFDD00\", \"#FF7D00\", \"#FF006D\", \"#ADFF02\", \"#8F00FF\"]\n",
        "sns.set_palette(sns.color_palette(HAPPY_COLORS_PALETTE))\n",
        "rcParams['figure.figsize'] = 12, 8\n",
        "RANDOM_SEED = 42\n",
        "np.random.seed(RANDOM_SEED)\n",
        "torch.manual_seed(RANDOM_SEED)\n",
        "device = torch.device(\"cuda:0\" if torch.cuda.is_available() else \"cpu\")"
      ],
      "execution_count": 2,
      "outputs": []
    },
    {
      "cell_type": "code",
      "metadata": {
        "id": "ZcIs_X8mN_SA"
      },
      "source": [
        "from transformers import BertTokenizer, TFBertForSequenceClassification\n",
        "from transformers import InputExample, InputFeatures\n",
        "import pandas as pd"
      ],
      "execution_count": 3,
      "outputs": []
    },
    {
      "cell_type": "markdown",
      "metadata": {
        "id": "_gUHXMCVprAn"
      },
      "source": [
        "## Loading the dataset\n",
        "We load the dataset, consisting of 12.8k news statements and other fields, and put them in a dataframe. "
      ]
    },
    {
      "cell_type": "code",
      "metadata": {
        "id": "EWqnM-vRDonF",
        "colab": {
          "base_uri": "https://localhost:8080/",
          "height": 462
        },
        "outputId": "afe3c254-5e29-48c1-f52b-a4bd4903e51d"
      },
      "source": [
        "url = 'https://raw.githubusercontent.com/srushtinandu/NLP-Project/main/data/train.tsv'\n",
        "train_data = pd.read_csv(url, sep = '\\t')\n",
        "train_data.columns=['ID', 'Label', 'Statement', 'subject(s)', 'speaker', 'speaker\\'s job', 'state info', 'party affiliation', 'barely true counts', 'false counts', 'half true counts', 'mostly true counts', 'pants on fire counts', 'context (venue / location of the speech or statement)']\n",
        "train_data.head()"
      ],
      "execution_count": 4,
      "outputs": [
        {
          "output_type": "execute_result",
          "data": {
            "text/html": [
              "<div>\n",
              "<style scoped>\n",
              "    .dataframe tbody tr th:only-of-type {\n",
              "        vertical-align: middle;\n",
              "    }\n",
              "\n",
              "    .dataframe tbody tr th {\n",
              "        vertical-align: top;\n",
              "    }\n",
              "\n",
              "    .dataframe thead th {\n",
              "        text-align: right;\n",
              "    }\n",
              "</style>\n",
              "<table border=\"1\" class=\"dataframe\">\n",
              "  <thead>\n",
              "    <tr style=\"text-align: right;\">\n",
              "      <th></th>\n",
              "      <th>ID</th>\n",
              "      <th>Label</th>\n",
              "      <th>Statement</th>\n",
              "      <th>subject(s)</th>\n",
              "      <th>speaker</th>\n",
              "      <th>speaker's job</th>\n",
              "      <th>state info</th>\n",
              "      <th>party affiliation</th>\n",
              "      <th>barely true counts</th>\n",
              "      <th>false counts</th>\n",
              "      <th>half true counts</th>\n",
              "      <th>mostly true counts</th>\n",
              "      <th>pants on fire counts</th>\n",
              "      <th>context (venue / location of the speech or statement)</th>\n",
              "    </tr>\n",
              "  </thead>\n",
              "  <tbody>\n",
              "    <tr>\n",
              "      <th>0</th>\n",
              "      <td>10540.json</td>\n",
              "      <td>half-true</td>\n",
              "      <td>When did the decline of coal start? It started...</td>\n",
              "      <td>energy,history,job-accomplishments</td>\n",
              "      <td>scott-surovell</td>\n",
              "      <td>State delegate</td>\n",
              "      <td>Virginia</td>\n",
              "      <td>democrat</td>\n",
              "      <td>0.0</td>\n",
              "      <td>0.0</td>\n",
              "      <td>1.0</td>\n",
              "      <td>1.0</td>\n",
              "      <td>0.0</td>\n",
              "      <td>a floor speech.</td>\n",
              "    </tr>\n",
              "    <tr>\n",
              "      <th>1</th>\n",
              "      <td>324.json</td>\n",
              "      <td>mostly-true</td>\n",
              "      <td>Hillary Clinton agrees with John McCain \"by vo...</td>\n",
              "      <td>foreign-policy</td>\n",
              "      <td>barack-obama</td>\n",
              "      <td>President</td>\n",
              "      <td>Illinois</td>\n",
              "      <td>democrat</td>\n",
              "      <td>70.0</td>\n",
              "      <td>71.0</td>\n",
              "      <td>160.0</td>\n",
              "      <td>163.0</td>\n",
              "      <td>9.0</td>\n",
              "      <td>Denver</td>\n",
              "    </tr>\n",
              "    <tr>\n",
              "      <th>2</th>\n",
              "      <td>1123.json</td>\n",
              "      <td>false</td>\n",
              "      <td>Health care reform legislation is likely to ma...</td>\n",
              "      <td>health-care</td>\n",
              "      <td>blog-posting</td>\n",
              "      <td>NaN</td>\n",
              "      <td>NaN</td>\n",
              "      <td>none</td>\n",
              "      <td>7.0</td>\n",
              "      <td>19.0</td>\n",
              "      <td>3.0</td>\n",
              "      <td>5.0</td>\n",
              "      <td>44.0</td>\n",
              "      <td>a news release</td>\n",
              "    </tr>\n",
              "    <tr>\n",
              "      <th>3</th>\n",
              "      <td>9028.json</td>\n",
              "      <td>half-true</td>\n",
              "      <td>The economic turnaround started at the end of ...</td>\n",
              "      <td>economy,jobs</td>\n",
              "      <td>charlie-crist</td>\n",
              "      <td>NaN</td>\n",
              "      <td>Florida</td>\n",
              "      <td>democrat</td>\n",
              "      <td>15.0</td>\n",
              "      <td>9.0</td>\n",
              "      <td>20.0</td>\n",
              "      <td>19.0</td>\n",
              "      <td>2.0</td>\n",
              "      <td>an interview on CNN</td>\n",
              "    </tr>\n",
              "    <tr>\n",
              "      <th>4</th>\n",
              "      <td>12465.json</td>\n",
              "      <td>true</td>\n",
              "      <td>The Chicago Bears have had more starting quart...</td>\n",
              "      <td>education</td>\n",
              "      <td>robin-vos</td>\n",
              "      <td>Wisconsin Assembly speaker</td>\n",
              "      <td>Wisconsin</td>\n",
              "      <td>republican</td>\n",
              "      <td>0.0</td>\n",
              "      <td>3.0</td>\n",
              "      <td>2.0</td>\n",
              "      <td>5.0</td>\n",
              "      <td>1.0</td>\n",
              "      <td>a an online opinion-piece</td>\n",
              "    </tr>\n",
              "  </tbody>\n",
              "</table>\n",
              "</div>"
            ],
            "text/plain": [
              "           ID  ... context (venue / location of the speech or statement)\n",
              "0  10540.json  ...                                    a floor speech.   \n",
              "1    324.json  ...                                             Denver   \n",
              "2   1123.json  ...                                     a news release   \n",
              "3   9028.json  ...                                an interview on CNN   \n",
              "4  12465.json  ...                          a an online opinion-piece   \n",
              "\n",
              "[5 rows x 14 columns]"
            ]
          },
          "metadata": {
            "tags": []
          },
          "execution_count": 4
        }
      ]
    },
    {
      "cell_type": "markdown",
      "metadata": {
        "id": "9si-aD7pqH4q"
      },
      "source": [
        "We drop the unwanted columns from the dataset"
      ]
    },
    {
      "cell_type": "code",
      "metadata": {
        "id": "oVa8uVTdOkJk"
      },
      "source": [
        "train_data = train_data.drop(columns=['ID', 'barely true counts', 'false counts', 'half true counts', 'mostly true counts', 'pants on fire counts'])"
      ],
      "execution_count": 5,
      "outputs": []
    },
    {
      "cell_type": "markdown",
      "metadata": {
        "id": "udEvXk5wqNP3"
      },
      "source": [
        "Next, we check for class imbalance, and the total counts of all classes"
      ]
    },
    {
      "cell_type": "code",
      "metadata": {
        "colab": {
          "base_uri": "https://localhost:8080/",
          "height": 506
        },
        "id": "1anqvrj5QZpI",
        "outputId": "636c2d70-5c8d-40ca-a7be-ddea36ada0ff"
      },
      "source": [
        "sns.countplot(x=train_data.Label)\n",
        "plt.xlabel('Labels')\n",
        "plt.show()"
      ],
      "execution_count": 6,
      "outputs": [
        {
          "output_type": "display_data",
          "data": {
            "image/png": "[encoded data removed]",
            "text/plain": [
              "<Figure size 864x576 with 1 Axes>"
            ]
          },
          "metadata": {
            "tags": [],
            "image/png": {
              "width": 745,
              "height": 489
            }
          }
        }
      ]
    },
    {
      "cell_type": "markdown",
      "metadata": {
        "id": "_MxjUVZDqXJF"
      },
      "source": [
        "We want to convert the 6-class classification into a binary classification model, so we change the labels to true/false\n"
      ]
    },
    {
      "cell_type": "code",
      "metadata": {
        "id": "9glhvzymRHOg"
      },
      "source": [
        "def to_label(label):\n",
        "  if label == 'mostly-true' or label == 'half-true':\n",
        "    return 'true'\n",
        "  elif label == 'pants-fire' or label == 'barely-true':\n",
        "    return 'false'\n",
        "  else:\n",
        "    return label"
      ],
      "execution_count": 7,
      "outputs": []
    },
    {
      "cell_type": "code",
      "metadata": {
        "colab": {
          "base_uri": "https://localhost:8080/",
          "height": 508
        },
        "id": "IivDqvoIR6sT",
        "outputId": "a83324d7-4a49-4e91-e054-1e5a1b393293"
      },
      "source": [
        "train_data['Label'] = train_data.Label.apply(to_label)\n",
        "sns.countplot(x=train_data.Label)\n",
        "plt.xlabel('Labels')\n",
        "plt.show()"
      ],
      "execution_count": 8,
      "outputs": [
        {
          "output_type": "display_data",
          "data": {
            "image/png": "[encoded data removed]",
            "text/plain": [
              "<Figure size 864x576 with 1 Axes>"
            ]
          },
          "metadata": {
            "tags": [],
            "image/png": {
              "width": 745,
              "height": 491
            }
          }
        }
      ]
    },
    {
      "cell_type": "code",
      "metadata": {
        "id": "hrgfm0GiSfWi"
      },
      "source": [
        "train_data.replace(['true', 'false'], [1,0], inplace=True)"
      ],
      "execution_count": 9,
      "outputs": []
    },
    {
      "cell_type": "code",
      "metadata": {
        "id": "PYnDjQgvrZxt"
      },
      "source": [
        "class_names = ['true','false']"
      ],
      "execution_count": 10,
      "outputs": []
    },
    {
      "cell_type": "markdown",
      "metadata": {
        "id": "GrUJk565qwga"
      },
      "source": [
        "## Loading a pre-trained BertTokenizer\n"
      ]
    },
    {
      "cell_type": "code",
      "metadata": {
        "id": "Xcr36uKrTlgz",
        "colab": {
          "base_uri": "https://localhost:8080/",
          "height": 165,
          "referenced_widgets": [
            "cf369f8e84aa4f0f8c3513d63784af17",
            "f103cc13de9042f1bf838beb4f17c734",
            "4874d5f7505945098530e5cf3220f0fe",
            "e96d9ef671514dc6982b06e2dd95fc81",
            "4b3a15f650b547aca4a0235edb2c7fa1",
            "3c045de621fd4e41a4112ccb0582acdd",
            "83b61842c0fa4e3fb3ca6383f24db8ab",
            "a12931f7fb3e4d638df2ff32f8d1d6af",
            "61c8e21838814de3a7cd2ed731bb3030",
            "c493c4f8c8e64c35985f6b33264938d1",
            "17d629bcae374fe4a1e34a2884fc8458",
            "17cd7617223a456bbb92944f7134a534",
            "3cf3e704a71a466e8f5930a114d5dcd8",
            "8d8077f3689344aeae97327780f624c7",
            "410af3dd060e4d9895676017706928cf",
            "fa0c31c46f5947f4a3711a5c482ef1cc",
            "7a479e1267184e879cdc848dd32a2cdc",
            "d9e5b0a5dfbc4fb0a27ff8b766bdfdb6",
            "68849d57e05144b995f7317c9e7e38cf",
            "23cf43ce9ac7471da18ac76f6263fa57",
            "efb9ecd9abe744deb5fc7e025fdcbf7d",
            "4b90039d2ed64a649a3323f77782c14c",
            "648e78cc5a9b49129b891d289b0b743b",
            "a342015932114c0f91310166c3bb0757"
          ]
        },
        "outputId": "6a10c89f-bdf0-4426-be32-412d96673d85"
      },
      "source": [
        "PRE_TRAINED_MODEL_NAME = 'bert-base-cased'\n",
        "tokenizer = BertTokenizer.from_pretrained(PRE_TRAINED_MODEL_NAME)"
      ],
      "execution_count": 11,
      "outputs": [
        {
          "output_type": "display_data",
          "data": {
            "application/vnd.jupyter.widget-view+json": {
              "model_id": "cf369f8e84aa4f0f8c3513d63784af17",
              "version_minor": 0,
              "version_major": 2
            },
            "text/plain": [
              "HBox(children=(FloatProgress(value=0.0, description='Downloading', max=213450.0, style=ProgressStyle(descripti…"
            ]
          },
          "metadata": {
            "tags": []
          }
        },
        {
          "output_type": "stream",
          "text": [
            "\n"
          ],
          "name": "stdout"
        },
        {
          "output_type": "display_data",
          "data": {
            "application/vnd.jupyter.widget-view+json": {
              "model_id": "61c8e21838814de3a7cd2ed731bb3030",
              "version_minor": 0,
              "version_major": 2
            },
            "text/plain": [
              "HBox(children=(FloatProgress(value=0.0, description='Downloading', max=29.0, style=ProgressStyle(description_w…"
            ]
          },
          "metadata": {
            "tags": []
          }
        },
        {
          "output_type": "stream",
          "text": [
            "\n"
          ],
          "name": "stdout"
        },
        {
          "output_type": "display_data",
          "data": {
            "application/vnd.jupyter.widget-view+json": {
              "model_id": "7a479e1267184e879cdc848dd32a2cdc",
              "version_minor": 0,
              "version_major": 2
            },
            "text/plain": [
              "HBox(children=(FloatProgress(value=0.0, description='Downloading', max=435797.0, style=ProgressStyle(descripti…"
            ]
          },
          "metadata": {
            "tags": []
          }
        },
        {
          "output_type": "stream",
          "text": [
            "\n"
          ],
          "name": "stdout"
        }
      ]
    },
    {
      "cell_type": "markdown",
      "metadata": {
        "id": "Ws1M_f7Nq9zA"
      },
      "source": [
        "## Choosing sequence length\n",
        "We store the length of each statement in our dataset to determine the maximum length. "
      ]
    },
    {
      "cell_type": "code",
      "metadata": {
        "id": "hAvllvA_UVcx"
      },
      "source": [
        "token_lens = []\n",
        "for txt in train_data.Statement:\n",
        "  tokens = tokenizer.encode(txt, max_length=512, truncation=True)\n",
        "  token_lens.append(len(tokens))\n"
      ],
      "execution_count": 12,
      "outputs": []
    },
    {
      "cell_type": "code",
      "metadata": {
        "colab": {
          "base_uri": "https://localhost:8080/",
          "height": 523
        },
        "id": "l0t0C8mGUiqd",
        "outputId": "ec306af2-9d4b-4d06-ef11-296313ac7940"
      },
      "source": [
        "sns.histplot(token_lens)\n",
        "plt.title(\"Histogram for Total Count\")\n",
        "plt.xlabel('Token count')\n",
        "plt.show()"
      ],
      "execution_count": 13,
      "outputs": [
        {
          "output_type": "display_data",
          "data": {
            "image/png": "[encoded data removed]",
            "text/plain": [
              "<Figure size 864x576 with 1 Axes>"
            ]
          },
          "metadata": {
            "tags": [],
            "image/png": {
              "width": 736,
              "height": 506
            }
          }
        }
      ]
    },
    {
      "cell_type": "markdown",
      "metadata": {
        "id": "GI55XhcNO277"
      },
      "source": [
        "Defining some constants"
      ]
    },
    {
      "cell_type": "code",
      "metadata": {
        "id": "s9YAs01PU04a"
      },
      "source": [
        "MAX_LEN = 100 #defining the maximum length of the statements\n",
        "BATCH_SIZE = 16\n",
        "EPOCHS = 4"
      ],
      "execution_count": 33,
      "outputs": []
    },
    {
      "cell_type": "markdown",
      "metadata": {
        "id": "TEi6ctnKrdQo"
      },
      "source": [
        "## Create a PyTorch dataset"
      ]
    },
    {
      "cell_type": "code",
      "metadata": {
        "id": "FaPr97w8VM8A"
      },
      "source": [
        "class GPReviewDataset(Dataset):\n",
        "  def __init__(self, statements, labels, tokenizer, max_len):\n",
        "    self.statements = statements\n",
        "    self.labels = labels\n",
        "    self.tokenizer = tokenizer\n",
        "    self.max_len = max_len\n",
        "  def __len__(self):\n",
        "    return len(self.statements)\n",
        "  def __getitem__(self, item):\n",
        "    statement = str(self.statements[item])\n",
        "    label = self.labels[item]\n",
        "    encoding = self.tokenizer.encode_plus(\n",
        "      statement,\n",
        "      add_special_tokens=True,\n",
        "      max_length=self.max_len,\n",
        "      truncation=True,\n",
        "      return_token_type_ids=False,\n",
        "      pad_to_max_length = True,\n",
        "      return_attention_mask=True,\n",
        "      return_tensors='pt',\n",
        "    )\n",
        "    return {\n",
        "      'statement_text': statement,\n",
        "      'input_ids': encoding['input_ids'].flatten(),\n",
        "      'attention_mask': encoding['attention_mask'].flatten(),\n",
        "      'labels': torch.tensor(label, dtype=torch.long)\n",
        "    }"
      ],
      "execution_count": 34,
      "outputs": []
    },
    {
      "cell_type": "markdown",
      "metadata": {
        "id": "DetvIa_9rlkV"
      },
      "source": [
        "We need to create data loaders, and hence we define a method for the same"
      ]
    },
    {
      "cell_type": "code",
      "metadata": {
        "id": "7ylKNegdWGdY"
      },
      "source": [
        "def create_data_loader(df, tokenizer, max_len, batch_size):\n",
        "  ds = GPReviewDataset(\n",
        "    statements=df.Statement.to_numpy(),\n",
        "    labels=df.Label.to_numpy(),\n",
        "    tokenizer=tokenizer,\n",
        "    max_len=max_len\n",
        "  )\n",
        "  #print(df.Label.to_numpy())\n",
        "  return DataLoader(\n",
        "    ds,\n",
        "    batch_size=batch_size,\n",
        "    num_workers=4\n",
        "  )"
      ],
      "execution_count": 35,
      "outputs": []
    },
    {
      "cell_type": "markdown",
      "metadata": {
        "id": "hLQP28tbNpHT"
      },
      "source": [
        "# Creating Data Loader"
      ]
    },
    {
      "cell_type": "code",
      "metadata": {
        "id": "kfvYggcnWJ1s",
        "colab": {
          "base_uri": "https://localhost:8080/"
        },
        "outputId": "873f31c9-4999-4fd6-af77-ec8274927a5e"
      },
      "source": [
        "train_data_loader = create_data_loader(train_data, tokenizer, MAX_LEN, BATCH_SIZE)"
      ],
      "execution_count": 36,
      "outputs": [
        {
          "output_type": "stream",
          "text": [
            "/usr/local/lib/python3.7/dist-packages/torch/utils/data/dataloader.py:477: UserWarning: This DataLoader will create 4 worker processes in total. Our suggested max number of worker in current system is 2, which is smaller than what this DataLoader is going to create. Please be aware that excessive worker creation might get DataLoader running slow or even freeze, lower the worker number to avoid potential slowness/freeze if necessary.\n",
            "  cpuset_checked))\n"
          ],
          "name": "stderr"
        }
      ]
    },
    {
      "cell_type": "code",
      "metadata": {
        "id": "AtQLjcb1YKsb",
        "colab": {
          "base_uri": "https://localhost:8080/"
        },
        "outputId": "9258ade6-11b8-440f-a8e6-8712a2ab2a8d"
      },
      "source": [
        "data = next(iter(train_data_loader))\n",
        "data.keys()"
      ],
      "execution_count": 37,
      "outputs": [
        {
          "output_type": "stream",
          "text": [
            "/usr/local/lib/python3.7/dist-packages/torch/utils/data/dataloader.py:477: UserWarning: This DataLoader will create 4 worker processes in total. Our suggested max number of worker in current system is 2, which is smaller than what this DataLoader is going to create. Please be aware that excessive worker creation might get DataLoader running slow or even freeze, lower the worker number to avoid potential slowness/freeze if necessary.\n",
            "  cpuset_checked))\n",
            "/usr/local/lib/python3.7/dist-packages/transformers/tokenization_utils_base.py:2079: FutureWarning: The `pad_to_max_length` argument is deprecated and will be removed in a future version, use `padding=True` or `padding='longest'` to pad to the longest sequence in the batch, or use `padding='max_length'` to pad to a max length. In this case, you can give a specific length with `max_length` (e.g. `max_length=45`) or leave max_length to None to pad to the maximal input size of the model (e.g. 512 for Bert).\n",
            "  FutureWarning,\n",
            "/usr/local/lib/python3.7/dist-packages/transformers/tokenization_utils_base.py:2079: FutureWarning: The `pad_to_max_length` argument is deprecated and will be removed in a future version, use `padding=True` or `padding='longest'` to pad to the longest sequence in the batch, or use `padding='max_length'` to pad to a max length. In this case, you can give a specific length with `max_length` (e.g. `max_length=45`) or leave max_length to None to pad to the maximal input size of the model (e.g. 512 for Bert).\n",
            "  FutureWarning,\n",
            "/usr/local/lib/python3.7/dist-packages/transformers/tokenization_utils_base.py:2079: FutureWarning: The `pad_to_max_length` argument is deprecated and will be removed in a future version, use `padding=True` or `padding='longest'` to pad to the longest sequence in the batch, or use `padding='max_length'` to pad to a max length. In this case, you can give a specific length with `max_length` (e.g. `max_length=45`) or leave max_length to None to pad to the maximal input size of the model (e.g. 512 for Bert).\n",
            "  FutureWarning,\n",
            "/usr/local/lib/python3.7/dist-packages/transformers/tokenization_utils_base.py:2079: FutureWarning: The `pad_to_max_length` argument is deprecated and will be removed in a future version, use `padding=True` or `padding='longest'` to pad to the longest sequence in the batch, or use `padding='max_length'` to pad to a max length. In this case, you can give a specific length with `max_length` (e.g. `max_length=45`) or leave max_length to None to pad to the maximal input size of the model (e.g. 512 for Bert).\n",
            "  FutureWarning,\n"
          ],
          "name": "stderr"
        },
        {
          "output_type": "execute_result",
          "data": {
            "text/plain": [
              "dict_keys(['statement_text', 'input_ids', 'attention_mask', 'labels'])"
            ]
          },
          "metadata": {
            "tags": []
          },
          "execution_count": 37
        }
      ]
    },
    {
      "cell_type": "code",
      "metadata": {
        "id": "eTtJ-0EPSDbw",
        "colab": {
          "base_uri": "https://localhost:8080/"
        },
        "outputId": "dd286e7f-78fd-4e07-a03d-2840c8b79ffe"
      },
      "source": [
        "print(data['input_ids'].shape)\n",
        "print(data['attention_mask'].shape)\n",
        "print(data['labels'].shape)"
      ],
      "execution_count": 38,
      "outputs": [
        {
          "output_type": "stream",
          "text": [
            "torch.Size([16, 100])\n",
            "torch.Size([16, 100])\n",
            "torch.Size([16])\n"
          ],
          "name": "stdout"
        }
      ]
    },
    {
      "cell_type": "code",
      "metadata": {
        "id": "l5wU__GHPQg1"
      },
      "source": [
        "bert_model = BertModel.from_pretrained(PRE_TRAINED_MODEL_NAME)"
      ],
      "execution_count": 39,
      "outputs": []
    },
    {
      "cell_type": "markdown",
      "metadata": {
        "id": "X0Z_joiAUxFY"
      },
      "source": [
        "# Building a Fake News Classifier"
      ]
    },
    {
      "cell_type": "code",
      "metadata": {
        "id": "cD3Yo92OU3QE"
      },
      "source": [
        "class FakeNewsClassifier(nn.Module):\n",
        "\n",
        "  def __init__(self, n_classes):\n",
        "    super(FakeNewsClassifier, self).__init__()\n",
        "    self.bert = BertModel.from_pretrained(PRE_TRAINED_MODEL_NAME)\n",
        "    self.drop = nn.Dropout(p=0.3)\n",
        "    self.out = nn.Linear(self.bert.config.hidden_size, n_classes)\n",
        "\n",
        "  def forward(self, input_ids, attention_mask):\n",
        "    _, pooled_output = self.bert(\n",
        "      input_ids=input_ids,\n",
        "      attention_mask=attention_mask,\n",
        "      return_dict=False\n",
        "    )\n",
        "    output = self.drop(pooled_output)\n",
        "    return self.out(output)"
      ],
      "execution_count": 40,
      "outputs": []
    },
    {
      "cell_type": "code",
      "metadata": {
        "id": "hAyBwnQwaATj"
      },
      "source": [
        "model = FakeNewsClassifier(2)\n",
        "model = model.to(device)"
      ],
      "execution_count": 41,
      "outputs": []
    },
    {
      "cell_type": "code",
      "metadata": {
        "colab": {
          "base_uri": "https://localhost:8080/"
        },
        "id": "2xeYtTkjcGHX",
        "outputId": "b0637f61-8f34-40a8-df21-2f72ec8e8303"
      },
      "source": [
        "input_ids = data['input_ids'].to(device)\n",
        "attention_mask = data['attention_mask'].to(device)\n",
        "\n",
        "print(input_ids.shape) # batch size x seq length\n",
        "print(attention_mask.shape)"
      ],
      "execution_count": 42,
      "outputs": [
        {
          "output_type": "stream",
          "text": [
            "torch.Size([16, 100])\n",
            "torch.Size([16, 100])\n"
          ],
          "name": "stdout"
        }
      ]
    },
    {
      "cell_type": "code",
      "metadata": {
        "colab": {
          "base_uri": "https://localhost:8080/"
        },
        "id": "coqYulwjcedD",
        "outputId": "eea01a4b-bef5-4f76-f90c-5a2ab0af74af"
      },
      "source": [
        "F.softmax(model(input_ids, attention_mask), dim=1)"
      ],
      "execution_count": 43,
      "outputs": [
        {
          "output_type": "execute_result",
          "data": {
            "text/plain": [
              "tensor([[0.2668, 0.7332],\n",
              "        [0.1898, 0.8102],\n",
              "        [0.3020, 0.6980],\n",
              "        [0.3765, 0.6235],\n",
              "        [0.1601, 0.8399],\n",
              "        [0.2275, 0.7725],\n",
              "        [0.3918, 0.6082],\n",
              "        [0.2026, 0.7974],\n",
              "        [0.2022, 0.7978],\n",
              "        [0.2477, 0.7523],\n",
              "        [0.1745, 0.8255],\n",
              "        [0.4264, 0.5736],\n",
              "        [0.3002, 0.6998],\n",
              "        [0.2237, 0.7763],\n",
              "        [0.2417, 0.7583],\n",
              "        [0.1619, 0.8381]], device='cuda:0', grad_fn=<SoftmaxBackward>)"
            ]
          },
          "metadata": {
            "tags": []
          },
          "execution_count": 43
        }
      ]
    },
    {
      "cell_type": "code",
      "metadata": {
        "id": "rDvwLInbCMpR"
      },
      "source": [
        "optimizer = AdamW(model.parameters(), lr=2e-5, correct_bias=False)\n",
        "total_steps = len(train_data_loader) * EPOCHS\n",
        "\n",
        "scheduler = get_linear_schedule_with_warmup(\n",
        "  optimizer,\n",
        "  num_warmup_steps=0,\n",
        "  num_training_steps=total_steps\n",
        ")\n",
        "\n",
        "loss_fn = nn.CrossEntropyLoss().to(device)"
      ],
      "execution_count": 44,
      "outputs": []
    },
    {
      "cell_type": "markdown",
      "metadata": {
        "id": "q8a2iGGsxyJK"
      },
      "source": [
        "## Training the Classifier\n"
      ]
    },
    {
      "cell_type": "code",
      "metadata": {
        "id": "-pVoFWo_EDdc"
      },
      "source": [
        "def train_epoch(\n",
        "  model, \n",
        "  data_loader, \n",
        "  loss_fn, \n",
        "  optimizer, \n",
        "  device, \n",
        "  scheduler, \n",
        "  n_examples\n",
        "):\n",
        "  model = model.train()\n",
        "\n",
        "  losses = []\n",
        "  correct_predictions = 0\n",
        "  \n",
        "  for itr, d in enumerate(data_loader):\n",
        "    input_ids = d[\"input_ids\"].to(device)\n",
        "    attention_mask = d[\"attention_mask\"].to(device)\n",
        "    targets = d[\"labels\"].to(device)\n",
        "    #print(d['statement_text'])\n",
        "    outputs = model(\n",
        "      input_ids=input_ids,\n",
        "      attention_mask=attention_mask,\n",
        "    )\n",
        "\n",
        "    _, preds = torch.max(outputs, dim=1)\n",
        "    loss = loss_fn(outputs, targets)\n",
        "\n",
        "    correct_predictions += torch.sum(preds == targets)\n",
        "    losses.append(loss.item())\n",
        "\n",
        "    loss.backward()\n",
        "    nn.utils.clip_grad_norm_(model.parameters(), max_norm=1.0)\n",
        "    optimizer.step()\n",
        "    scheduler.step()\n",
        "    optimizer.zero_grad()\n",
        "\n",
        "    if itr%20 == 0:\n",
        "      completed = 16 * itr\n",
        "      print(f\"Train Epoch: {epoch+1} [{completed}/10239 ({int(completed * 100/10239)}%)]   Loss: {loss: .6f}\")\n",
        "\n",
        "  return correct_predictions.double() / n_examples, np.mean(losses)"
      ],
      "execution_count": 45,
      "outputs": []
    },
    {
      "cell_type": "code",
      "metadata": {
        "id": "f4dJ0OnpExBO"
      },
      "source": [
        "def eval_model(model, data_loader, loss_fn, device, n_examples):\n",
        "  model = model.eval()\n",
        "\n",
        "  losses = []\n",
        "  correct_predictions = 0\n",
        "\n",
        "  with torch.no_grad():\n",
        "    for d in data_loader:\n",
        "      input_ids = d[\"input_ids\"].to(device)\n",
        "      attention_mask = d[\"attention_mask\"].to(device)\n",
        "      targets = d[\"labels\"].to(device)\n",
        "\n",
        "      outputs = model(\n",
        "        input_ids=input_ids,\n",
        "        attention_mask=attention_mask\n",
        "      )\n",
        "      _, preds = torch.max(outputs, dim=1)\n",
        "\n",
        "      loss = loss_fn(outputs, targets)\n",
        "\n",
        "      correct_predictions += torch.sum(preds == targets)\n",
        "      losses.append(loss.item())\n",
        "\n",
        "  return correct_predictions.double() / n_examples, np.mean(losses)"
      ],
      "execution_count": 46,
      "outputs": []
    },
    {
      "cell_type": "code",
      "metadata": {
        "id": "6CaK0D57DwQl"
      },
      "source": [
        "url = 'https://raw.githubusercontent.com/srushtinandu/NLP-Project/main/data/valid.tsv'\n",
        "valid_data = pd.read_csv(url, sep = '\\t')\n",
        "valid_data.columns=['ID', 'Label', 'Statement', 'subject(s)', 'speaker', 'speaker\\'s job', 'state info', 'party affiliation', 'barely true counts', 'false counts', 'half true counts', 'mostly true counts', 'pants on fire counts', 'context (venue / location of the speech or statement)']\n"
      ],
      "execution_count": 47,
      "outputs": []
    },
    {
      "cell_type": "code",
      "metadata": {
        "id": "4kSFdg0JIH5Z"
      },
      "source": [
        "valid_data = valid_data.drop(columns=['ID', 'barely true counts', 'false counts', 'half true counts', 'mostly true counts', 'pants on fire counts'])\n",
        "def to_label(label):\n",
        "  if label == 'mostly-true' or label == 'half-true':\n",
        "    return 'true'\n",
        "  elif label == 'pants-fire' or label == 'barely-true':\n",
        "    return 'false'\n",
        "  else:\n",
        "    return label\n",
        "valid_data['Label'] = valid_data.Label.apply(to_label)\n",
        "valid_data.replace(['true', 'false'], [1,0], inplace=True)\n",
        "\n"
      ],
      "execution_count": 48,
      "outputs": []
    },
    {
      "cell_type": "code",
      "metadata": {
        "id": "r5SobmkFalXx",
        "colab": {
          "base_uri": "https://localhost:8080/"
        },
        "outputId": "666645ca-0f1a-49e9-ed79-c8a0f0270402"
      },
      "source": [
        "val_data_loader = create_data_loader(valid_data, tokenizer, MAX_LEN, BATCH_SIZE)"
      ],
      "execution_count": 49,
      "outputs": [
        {
          "output_type": "stream",
          "text": [
            "/usr/local/lib/python3.7/dist-packages/torch/utils/data/dataloader.py:477: UserWarning: This DataLoader will create 4 worker processes in total. Our suggested max number of worker in current system is 2, which is smaller than what this DataLoader is going to create. Please be aware that excessive worker creation might get DataLoader running slow or even freeze, lower the worker number to avoid potential slowness/freeze if necessary.\n",
            "  cpuset_checked))\n"
          ],
          "name": "stderr"
        }
      ]
    },
    {
      "cell_type": "code",
      "metadata": {
        "id": "6344BHcTKG-V",
        "colab": {
          "base_uri": "https://localhost:8080/"
        },
        "outputId": "ef94a832-7223-4cd4-e7ff-95ddd0745751"
      },
      "source": [
        "history = defaultdict(list)\n",
        "best_accuracy = 0\n",
        "\n",
        "for epoch in range(EPOCHS):\n",
        "\n",
        "  print(f'Epoch {epoch + 1}/{EPOCHS}')\n",
        "  print('-' * 10)\n",
        "\n",
        "  train_acc, train_loss = train_epoch(\n",
        "    model,\n",
        "    train_data_loader,    \n",
        "    loss_fn, \n",
        "    optimizer, \n",
        "    device, \n",
        "    scheduler, \n",
        "    len(train_data)\n",
        "  )\n",
        "\n",
        "  print(f'Train loss {train_loss} accuracy {train_acc}')\n",
        "\n",
        "  val_acc, val_loss = eval_model(\n",
        "    model,\n",
        "    val_data_loader,\n",
        "    loss_fn,\n",
        "    device, \n",
        "    len(valid_data)\n",
        "  )\n",
        "\n",
        "  print(f'Val   loss {val_loss} accuracy {val_acc}')\n",
        "  print()\n",
        "\n",
        "  history['train_acc'].append(train_acc)\n",
        "  history['train_loss'].append(train_loss)\n",
        "  history['val_acc'].append(val_acc)\n",
        "  history['val_loss'].append(val_loss)\n",
        "  torch.save(model.state_dict(), f'model_epoch_{epoch+1}.bin')\n",
        "  if val_acc > best_accuracy:\n",
        "    torch.save(model.state_dict(), 'best_model_state.bin')\n",
        "    best_accuracy = val_acc"
      ],
      "execution_count": 50,
      "outputs": [
        {
          "output_type": "stream",
          "text": [
            "Epoch 1/4\n",
            "----------\n"
          ],
          "name": "stdout"
        },
        {
          "output_type": "stream",
          "text": [
            "/usr/local/lib/python3.7/dist-packages/torch/utils/data/dataloader.py:477: UserWarning: This DataLoader will create 4 worker processes in total. Our suggested max number of worker in current system is 2, which is smaller than what this DataLoader is going to create. Please be aware that excessive worker creation might get DataLoader running slow or even freeze, lower the worker number to avoid potential slowness/freeze if necessary.\n",
            "  cpuset_checked))\n",
            "/usr/local/lib/python3.7/dist-packages/transformers/tokenization_utils_base.py:2079: FutureWarning: The `pad_to_max_length` argument is deprecated and will be removed in a future version, use `padding=True` or `padding='longest'` to pad to the longest sequence in the batch, or use `padding='max_length'` to pad to a max length. In this case, you can give a specific length with `max_length` (e.g. `max_length=45`) or leave max_length to None to pad to the maximal input size of the model (e.g. 512 for Bert).\n",
            "  FutureWarning,\n",
            "/usr/local/lib/python3.7/dist-packages/transformers/tokenization_utils_base.py:2079: FutureWarning: The `pad_to_max_length` argument is deprecated and will be removed in a future version, use `padding=True` or `padding='longest'` to pad to the longest sequence in the batch, or use `padding='max_length'` to pad to a max length. In this case, you can give a specific length with `max_length` (e.g. `max_length=45`) or leave max_length to None to pad to the maximal input size of the model (e.g. 512 for Bert).\n",
            "  FutureWarning,\n",
            "/usr/local/lib/python3.7/dist-packages/transformers/tokenization_utils_base.py:2079: FutureWarning: The `pad_to_max_length` argument is deprecated and will be removed in a future version, use `padding=True` or `padding='longest'` to pad to the longest sequence in the batch, or use `padding='max_length'` to pad to a max length. In this case, you can give a specific length with `max_length` (e.g. `max_length=45`) or leave max_length to None to pad to the maximal input size of the model (e.g. 512 for Bert).\n",
            "  FutureWarning,\n",
            "/usr/local/lib/python3.7/dist-packages/transformers/tokenization_utils_base.py:2079: FutureWarning: The `pad_to_max_length` argument is deprecated and will be removed in a future version, use `padding=True` or `padding='longest'` to pad to the longest sequence in the batch, or use `padding='max_length'` to pad to a max length. In this case, you can give a specific length with `max_length` (e.g. `max_length=45`) or leave max_length to None to pad to the maximal input size of the model (e.g. 512 for Bert).\n",
            "  FutureWarning,\n"
          ],
          "name": "stderr"
        },
        {
          "output_type": "stream",
          "text": [
            "Train Epoch: 1 [0/10239 (0%)]   Loss:  0.582708\n",
            "Train Epoch: 1 [320/10239 (3%)]   Loss:  0.795725\n",
            "Train Epoch: 1 [640/10239 (6%)]   Loss:  0.690642\n",
            "Train Epoch: 1 [960/10239 (9%)]   Loss:  0.757464\n",
            "Train Epoch: 1 [1280/10239 (12%)]   Loss:  0.583447\n",
            "Train Epoch: 1 [1600/10239 (15%)]   Loss:  0.581281\n",
            "Train Epoch: 1 [1920/10239 (18%)]   Loss:  0.691563\n",
            "Train Epoch: 1 [2240/10239 (21%)]   Loss:  0.784270\n",
            "Train Epoch: 1 [2560/10239 (25%)]   Loss:  0.666490\n",
            "Train Epoch: 1 [2880/10239 (28%)]   Loss:  0.842799\n",
            "Train Epoch: 1 [3200/10239 (31%)]   Loss:  0.615844\n",
            "Train Epoch: 1 [3520/10239 (34%)]   Loss:  0.688952\n",
            "Train Epoch: 1 [3840/10239 (37%)]   Loss:  0.807296\n",
            "Train Epoch: 1 [4160/10239 (40%)]   Loss:  0.780638\n",
            "Train Epoch: 1 [4480/10239 (43%)]   Loss:  0.867954\n",
            "Train Epoch: 1 [4800/10239 (46%)]   Loss:  0.686414\n",
            "Train Epoch: 1 [5120/10239 (50%)]   Loss:  0.707890\n",
            "Train Epoch: 1 [5440/10239 (53%)]   Loss:  0.604621\n",
            "Train Epoch: 1 [5760/10239 (56%)]   Loss:  0.661556\n",
            "Train Epoch: 1 [6080/10239 (59%)]   Loss:  0.784518\n",
            "Train Epoch: 1 [6400/10239 (62%)]   Loss:  0.643932\n",
            "Train Epoch: 1 [6720/10239 (65%)]   Loss:  0.819568\n",
            "Train Epoch: 1 [7040/10239 (68%)]   Loss:  0.733984\n",
            "Train Epoch: 1 [7360/10239 (71%)]   Loss:  0.726527\n",
            "Train Epoch: 1 [7680/10239 (75%)]   Loss:  0.810824\n",
            "Train Epoch: 1 [8000/10239 (78%)]   Loss:  0.703085\n",
            "Train Epoch: 1 [8320/10239 (81%)]   Loss:  0.660376\n",
            "Train Epoch: 1 [8640/10239 (84%)]   Loss:  0.646679\n",
            "Train Epoch: 1 [8960/10239 (87%)]   Loss:  0.700901\n",
            "Train Epoch: 1 [9280/10239 (90%)]   Loss:  0.630991\n",
            "Train Epoch: 1 [9600/10239 (93%)]   Loss:  0.762469\n",
            "Train Epoch: 1 [9920/10239 (96%)]   Loss:  0.705713\n",
            "Train loss 0.7085517352912575 accuracy 0.5429241136829769\n"
          ],
          "name": "stdout"
        },
        {
          "output_type": "stream",
          "text": [
            "/usr/local/lib/python3.7/dist-packages/transformers/tokenization_utils_base.py:2079: FutureWarning: The `pad_to_max_length` argument is deprecated and will be removed in a future version, use `padding=True` or `padding='longest'` to pad to the longest sequence in the batch, or use `padding='max_length'` to pad to a max length. In this case, you can give a specific length with `max_length` (e.g. `max_length=45`) or leave max_length to None to pad to the maximal input size of the model (e.g. 512 for Bert).\n",
            "  FutureWarning,\n",
            "/usr/local/lib/python3.7/dist-packages/transformers/tokenization_utils_base.py:2079: FutureWarning: The `pad_to_max_length` argument is deprecated and will be removed in a future version, use `padding=True` or `padding='longest'` to pad to the longest sequence in the batch, or use `padding='max_length'` to pad to a max length. In this case, you can give a specific length with `max_length` (e.g. `max_length=45`) or leave max_length to None to pad to the maximal input size of the model (e.g. 512 for Bert).\n",
            "  FutureWarning,\n",
            "/usr/local/lib/python3.7/dist-packages/transformers/tokenization_utils_base.py:2079: FutureWarning: The `pad_to_max_length` argument is deprecated and will be removed in a future version, use `padding=True` or `padding='longest'` to pad to the longest sequence in the batch, or use `padding='max_length'` to pad to a max length. In this case, you can give a specific length with `max_length` (e.g. `max_length=45`) or leave max_length to None to pad to the maximal input size of the model (e.g. 512 for Bert).\n",
            "  FutureWarning,\n",
            "/usr/local/lib/python3.7/dist-packages/transformers/tokenization_utils_base.py:2079: FutureWarning: The `pad_to_max_length` argument is deprecated and will be removed in a future version, use `padding=True` or `padding='longest'` to pad to the longest sequence in the batch, or use `padding='max_length'` to pad to a max length. In this case, you can give a specific length with `max_length` (e.g. `max_length=45`) or leave max_length to None to pad to the maximal input size of the model (e.g. 512 for Bert).\n",
            "  FutureWarning,\n"
          ],
          "name": "stderr"
        },
        {
          "output_type": "stream",
          "text": [
            "Val   loss 0.6725149802219721 accuracy 0.5814497272018706\n",
            "\n",
            "Epoch 2/4\n",
            "----------\n"
          ],
          "name": "stdout"
        },
        {
          "output_type": "stream",
          "text": [
            "/usr/local/lib/python3.7/dist-packages/transformers/tokenization_utils_base.py:2079: FutureWarning: The `pad_to_max_length` argument is deprecated and will be removed in a future version, use `padding=True` or `padding='longest'` to pad to the longest sequence in the batch, or use `padding='max_length'` to pad to a max length. In this case, you can give a specific length with `max_length` (e.g. `max_length=45`) or leave max_length to None to pad to the maximal input size of the model (e.g. 512 for Bert).\n",
            "  FutureWarning,\n",
            "/usr/local/lib/python3.7/dist-packages/transformers/tokenization_utils_base.py:2079: FutureWarning: The `pad_to_max_length` argument is deprecated and will be removed in a future version, use `padding=True` or `padding='longest'` to pad to the longest sequence in the batch, or use `padding='max_length'` to pad to a max length. In this case, you can give a specific length with `max_length` (e.g. `max_length=45`) or leave max_length to None to pad to the maximal input size of the model (e.g. 512 for Bert).\n",
            "  FutureWarning,\n",
            "/usr/local/lib/python3.7/dist-packages/transformers/tokenization_utils_base.py:2079: FutureWarning: The `pad_to_max_length` argument is deprecated and will be removed in a future version, use `padding=True` or `padding='longest'` to pad to the longest sequence in the batch, or use `padding='max_length'` to pad to a max length. In this case, you can give a specific length with `max_length` (e.g. `max_length=45`) or leave max_length to None to pad to the maximal input size of the model (e.g. 512 for Bert).\n",
            "  FutureWarning,\n",
            "/usr/local/lib/python3.7/dist-packages/transformers/tokenization_utils_base.py:2079: FutureWarning: The `pad_to_max_length` argument is deprecated and will be removed in a future version, use `padding=True` or `padding='longest'` to pad to the longest sequence in the batch, or use `padding='max_length'` to pad to a max length. In this case, you can give a specific length with `max_length` (e.g. `max_length=45`) or leave max_length to None to pad to the maximal input size of the model (e.g. 512 for Bert).\n",
            "  FutureWarning,\n"
          ],
          "name": "stderr"
        },
        {
          "output_type": "stream",
          "text": [
            "Train Epoch: 2 [0/10239 (0%)]   Loss:  0.656585\n",
            "Train Epoch: 2 [320/10239 (3%)]   Loss:  0.660887\n",
            "Train Epoch: 2 [640/10239 (6%)]   Loss:  0.716567\n",
            "Train Epoch: 2 [960/10239 (9%)]   Loss:  0.579541\n",
            "Train Epoch: 2 [1280/10239 (12%)]   Loss:  0.526299\n",
            "Train Epoch: 2 [1600/10239 (15%)]   Loss:  0.714433\n",
            "Train Epoch: 2 [1920/10239 (18%)]   Loss:  0.931081\n",
            "Train Epoch: 2 [2240/10239 (21%)]   Loss:  0.597603\n",
            "Train Epoch: 2 [2560/10239 (25%)]   Loss:  0.683421\n",
            "Train Epoch: 2 [2880/10239 (28%)]   Loss:  0.667244\n",
            "Train Epoch: 2 [3200/10239 (31%)]   Loss:  0.707528\n",
            "Train Epoch: 2 [3520/10239 (34%)]   Loss:  0.510759\n",
            "Train Epoch: 2 [3840/10239 (37%)]   Loss:  0.791743\n",
            "Train Epoch: 2 [4160/10239 (40%)]   Loss:  0.705855\n",
            "Train Epoch: 2 [4480/10239 (43%)]   Loss:  0.658911\n",
            "Train Epoch: 2 [4800/10239 (46%)]   Loss:  0.703964\n",
            "Train Epoch: 2 [5120/10239 (50%)]   Loss:  0.704688\n",
            "Train Epoch: 2 [5440/10239 (53%)]   Loss:  0.737205\n",
            "Train Epoch: 2 [5760/10239 (56%)]   Loss:  0.537158\n",
            "Train Epoch: 2 [6080/10239 (59%)]   Loss:  0.636111\n",
            "Train Epoch: 2 [6400/10239 (62%)]   Loss:  0.554953\n",
            "Train Epoch: 2 [6720/10239 (65%)]   Loss:  0.798453\n",
            "Train Epoch: 2 [7040/10239 (68%)]   Loss:  0.808278\n",
            "Train Epoch: 2 [7360/10239 (71%)]   Loss:  0.780161\n",
            "Train Epoch: 2 [7680/10239 (75%)]   Loss:  0.688089\n",
            "Train Epoch: 2 [8000/10239 (78%)]   Loss:  0.761525\n",
            "Train Epoch: 2 [8320/10239 (81%)]   Loss:  0.638023\n",
            "Train Epoch: 2 [8640/10239 (84%)]   Loss:  0.554498\n",
            "Train Epoch: 2 [8960/10239 (87%)]   Loss:  0.702373\n",
            "Train Epoch: 2 [9280/10239 (90%)]   Loss:  0.512364\n",
            "Train Epoch: 2 [9600/10239 (93%)]   Loss:  0.718867\n",
            "Train Epoch: 2 [9920/10239 (96%)]   Loss:  0.709459\n",
            "Train loss 0.6897713343147188 accuracy 0.5773024709444282\n"
          ],
          "name": "stdout"
        },
        {
          "output_type": "stream",
          "text": [
            "/usr/local/lib/python3.7/dist-packages/transformers/tokenization_utils_base.py:2079: FutureWarning: The `pad_to_max_length` argument is deprecated and will be removed in a future version, use `padding=True` or `padding='longest'` to pad to the longest sequence in the batch, or use `padding='max_length'` to pad to a max length. In this case, you can give a specific length with `max_length` (e.g. `max_length=45`) or leave max_length to None to pad to the maximal input size of the model (e.g. 512 for Bert).\n",
            "  FutureWarning,\n",
            "/usr/local/lib/python3.7/dist-packages/transformers/tokenization_utils_base.py:2079: FutureWarning: The `pad_to_max_length` argument is deprecated and will be removed in a future version, use `padding=True` or `padding='longest'` to pad to the longest sequence in the batch, or use `padding='max_length'` to pad to a max length. In this case, you can give a specific length with `max_length` (e.g. `max_length=45`) or leave max_length to None to pad to the maximal input size of the model (e.g. 512 for Bert).\n",
            "  FutureWarning,\n",
            "/usr/local/lib/python3.7/dist-packages/transformers/tokenization_utils_base.py:2079: FutureWarning: The `pad_to_max_length` argument is deprecated and will be removed in a future version, use `padding=True` or `padding='longest'` to pad to the longest sequence in the batch, or use `padding='max_length'` to pad to a max length. In this case, you can give a specific length with `max_length` (e.g. `max_length=45`) or leave max_length to None to pad to the maximal input size of the model (e.g. 512 for Bert).\n",
            "  FutureWarning,\n",
            "/usr/local/lib/python3.7/dist-packages/transformers/tokenization_utils_base.py:2079: FutureWarning: The `pad_to_max_length` argument is deprecated and will be removed in a future version, use `padding=True` or `padding='longest'` to pad to the longest sequence in the batch, or use `padding='max_length'` to pad to a max length. In this case, you can give a specific length with `max_length` (e.g. `max_length=45`) or leave max_length to None to pad to the maximal input size of the model (e.g. 512 for Bert).\n",
            "  FutureWarning,\n"
          ],
          "name": "stderr"
        },
        {
          "output_type": "stream",
          "text": [
            "Val   loss 0.6699671230198424 accuracy 0.6063912704598597\n",
            "\n",
            "Epoch 3/4\n",
            "----------\n"
          ],
          "name": "stdout"
        },
        {
          "output_type": "stream",
          "text": [
            "/usr/local/lib/python3.7/dist-packages/transformers/tokenization_utils_base.py:2079: FutureWarning: The `pad_to_max_length` argument is deprecated and will be removed in a future version, use `padding=True` or `padding='longest'` to pad to the longest sequence in the batch, or use `padding='max_length'` to pad to a max length. In this case, you can give a specific length with `max_length` (e.g. `max_length=45`) or leave max_length to None to pad to the maximal input size of the model (e.g. 512 for Bert).\n",
            "  FutureWarning,\n",
            "/usr/local/lib/python3.7/dist-packages/transformers/tokenization_utils_base.py:2079: FutureWarning: The `pad_to_max_length` argument is deprecated and will be removed in a future version, use `padding=True` or `padding='longest'` to pad to the longest sequence in the batch, or use `padding='max_length'` to pad to a max length. In this case, you can give a specific length with `max_length` (e.g. `max_length=45`) or leave max_length to None to pad to the maximal input size of the model (e.g. 512 for Bert).\n",
            "  FutureWarning,\n",
            "/usr/local/lib/python3.7/dist-packages/transformers/tokenization_utils_base.py:2079: FutureWarning: The `pad_to_max_length` argument is deprecated and will be removed in a future version, use `padding=True` or `padding='longest'` to pad to the longest sequence in the batch, or use `padding='max_length'` to pad to a max length. In this case, you can give a specific length with `max_length` (e.g. `max_length=45`) or leave max_length to None to pad to the maximal input size of the model (e.g. 512 for Bert).\n",
            "  FutureWarning,\n",
            "/usr/local/lib/python3.7/dist-packages/transformers/tokenization_utils_base.py:2079: FutureWarning: The `pad_to_max_length` argument is deprecated and will be removed in a future version, use `padding=True` or `padding='longest'` to pad to the longest sequence in the batch, or use `padding='max_length'` to pad to a max length. In this case, you can give a specific length with `max_length` (e.g. `max_length=45`) or leave max_length to None to pad to the maximal input size of the model (e.g. 512 for Bert).\n",
            "  FutureWarning,\n"
          ],
          "name": "stderr"
        },
        {
          "output_type": "stream",
          "text": [
            "Train Epoch: 3 [0/10239 (0%)]   Loss:  0.721510\n",
            "Train Epoch: 3 [320/10239 (3%)]   Loss:  0.644867\n",
            "Train Epoch: 3 [640/10239 (6%)]   Loss:  0.703035\n",
            "Train Epoch: 3 [960/10239 (9%)]   Loss:  0.615976\n",
            "Train Epoch: 3 [1280/10239 (12%)]   Loss:  0.594196\n",
            "Train Epoch: 3 [1600/10239 (15%)]   Loss:  0.692577\n",
            "Train Epoch: 3 [1920/10239 (18%)]   Loss:  0.794963\n",
            "Train Epoch: 3 [2240/10239 (21%)]   Loss:  0.553586\n",
            "Train Epoch: 3 [2560/10239 (25%)]   Loss:  0.635999\n",
            "Train Epoch: 3 [2880/10239 (28%)]   Loss:  0.906179\n",
            "Train Epoch: 3 [3200/10239 (31%)]   Loss:  0.687609\n",
            "Train Epoch: 3 [3520/10239 (34%)]   Loss:  0.550993\n",
            "Train Epoch: 3 [3840/10239 (37%)]   Loss:  0.807205\n",
            "Train Epoch: 3 [4160/10239 (40%)]   Loss:  0.713320\n",
            "Train Epoch: 3 [4480/10239 (43%)]   Loss:  0.740672\n",
            "Train Epoch: 3 [4800/10239 (46%)]   Loss:  0.712341\n",
            "Train Epoch: 3 [5120/10239 (50%)]   Loss:  0.597667\n",
            "Train Epoch: 3 [5440/10239 (53%)]   Loss:  0.661664\n",
            "Train Epoch: 3 [5760/10239 (56%)]   Loss:  0.551610\n",
            "Train Epoch: 3 [6080/10239 (59%)]   Loss:  0.588034\n",
            "Train Epoch: 3 [6400/10239 (62%)]   Loss:  0.529694\n",
            "Train Epoch: 3 [6720/10239 (65%)]   Loss:  0.853633\n",
            "Train Epoch: 3 [7040/10239 (68%)]   Loss:  0.789733\n",
            "Train Epoch: 3 [7360/10239 (71%)]   Loss:  0.814977\n",
            "Train Epoch: 3 [7680/10239 (75%)]   Loss:  0.725713\n",
            "Train Epoch: 3 [8000/10239 (78%)]   Loss:  0.788652\n",
            "Train Epoch: 3 [8320/10239 (81%)]   Loss:  0.553840\n",
            "Train Epoch: 3 [8640/10239 (84%)]   Loss:  0.657689\n",
            "Train Epoch: 3 [8960/10239 (87%)]   Loss:  0.566656\n",
            "Train Epoch: 3 [9280/10239 (90%)]   Loss:  0.622459\n",
            "Train Epoch: 3 [9600/10239 (93%)]   Loss:  0.667628\n",
            "Train Epoch: 3 [9920/10239 (96%)]   Loss:  0.688521\n",
            "Train loss 0.667627179576084 accuracy 0.6105088387537846\n"
          ],
          "name": "stdout"
        },
        {
          "output_type": "stream",
          "text": [
            "/usr/local/lib/python3.7/dist-packages/transformers/tokenization_utils_base.py:2079: FutureWarning: The `pad_to_max_length` argument is deprecated and will be removed in a future version, use `padding=True` or `padding='longest'` to pad to the longest sequence in the batch, or use `padding='max_length'` to pad to a max length. In this case, you can give a specific length with `max_length` (e.g. `max_length=45`) or leave max_length to None to pad to the maximal input size of the model (e.g. 512 for Bert).\n",
            "  FutureWarning,\n",
            "/usr/local/lib/python3.7/dist-packages/transformers/tokenization_utils_base.py:2079: FutureWarning: The `pad_to_max_length` argument is deprecated and will be removed in a future version, use `padding=True` or `padding='longest'` to pad to the longest sequence in the batch, or use `padding='max_length'` to pad to a max length. In this case, you can give a specific length with `max_length` (e.g. `max_length=45`) or leave max_length to None to pad to the maximal input size of the model (e.g. 512 for Bert).\n",
            "  FutureWarning,\n",
            "/usr/local/lib/python3.7/dist-packages/transformers/tokenization_utils_base.py:2079: FutureWarning: The `pad_to_max_length` argument is deprecated and will be removed in a future version, use `padding=True` or `padding='longest'` to pad to the longest sequence in the batch, or use `padding='max_length'` to pad to a max length. In this case, you can give a specific length with `max_length` (e.g. `max_length=45`) or leave max_length to None to pad to the maximal input size of the model (e.g. 512 for Bert).\n",
            "  FutureWarning,\n",
            "/usr/local/lib/python3.7/dist-packages/transformers/tokenization_utils_base.py:2079: FutureWarning: The `pad_to_max_length` argument is deprecated and will be removed in a future version, use `padding=True` or `padding='longest'` to pad to the longest sequence in the batch, or use `padding='max_length'` to pad to a max length. In this case, you can give a specific length with `max_length` (e.g. `max_length=45`) or leave max_length to None to pad to the maximal input size of the model (e.g. 512 for Bert).\n",
            "  FutureWarning,\n"
          ],
          "name": "stderr"
        },
        {
          "output_type": "stream",
          "text": [
            "Val   loss 0.6656930682099895 accuracy 0.612626656274357\n",
            "\n",
            "Epoch 4/4\n",
            "----------\n"
          ],
          "name": "stdout"
        },
        {
          "output_type": "stream",
          "text": [
            "/usr/local/lib/python3.7/dist-packages/transformers/tokenization_utils_base.py:2079: FutureWarning: The `pad_to_max_length` argument is deprecated and will be removed in a future version, use `padding=True` or `padding='longest'` to pad to the longest sequence in the batch, or use `padding='max_length'` to pad to a max length. In this case, you can give a specific length with `max_length` (e.g. `max_length=45`) or leave max_length to None to pad to the maximal input size of the model (e.g. 512 for Bert).\n",
            "  FutureWarning,\n",
            "/usr/local/lib/python3.7/dist-packages/transformers/tokenization_utils_base.py:2079: FutureWarning: The `pad_to_max_length` argument is deprecated and will be removed in a future version, use `padding=True` or `padding='longest'` to pad to the longest sequence in the batch, or use `padding='max_length'` to pad to a max length. In this case, you can give a specific length with `max_length` (e.g. `max_length=45`) or leave max_length to None to pad to the maximal input size of the model (e.g. 512 for Bert).\n",
            "  FutureWarning,\n",
            "/usr/local/lib/python3.7/dist-packages/transformers/tokenization_utils_base.py:2079: FutureWarning: The `pad_to_max_length` argument is deprecated and will be removed in a future version, use `padding=True` or `padding='longest'` to pad to the longest sequence in the batch, or use `padding='max_length'` to pad to a max length. In this case, you can give a specific length with `max_length` (e.g. `max_length=45`) or leave max_length to None to pad to the maximal input size of the model (e.g. 512 for Bert).\n",
            "  FutureWarning,\n",
            "/usr/local/lib/python3.7/dist-packages/transformers/tokenization_utils_base.py:2079: FutureWarning: The `pad_to_max_length` argument is deprecated and will be removed in a future version, use `padding=True` or `padding='longest'` to pad to the longest sequence in the batch, or use `padding='max_length'` to pad to a max length. In this case, you can give a specific length with `max_length` (e.g. `max_length=45`) or leave max_length to None to pad to the maximal input size of the model (e.g. 512 for Bert).\n",
            "  FutureWarning,\n"
          ],
          "name": "stderr"
        },
        {
          "output_type": "stream",
          "text": [
            "Train Epoch: 4 [0/10239 (0%)]   Loss:  0.573703\n",
            "Train Epoch: 4 [320/10239 (3%)]   Loss:  0.634446\n",
            "Train Epoch: 4 [640/10239 (6%)]   Loss:  0.813177\n",
            "Train Epoch: 4 [960/10239 (9%)]   Loss:  0.667012\n",
            "Train Epoch: 4 [1280/10239 (12%)]   Loss:  0.740275\n",
            "Train Epoch: 4 [1600/10239 (15%)]   Loss:  0.708775\n",
            "Train Epoch: 4 [1920/10239 (18%)]   Loss:  0.721716\n",
            "Train Epoch: 4 [2240/10239 (21%)]   Loss:  0.501114\n",
            "Train Epoch: 4 [2560/10239 (25%)]   Loss:  0.526879\n",
            "Train Epoch: 4 [2880/10239 (28%)]   Loss:  0.963124\n",
            "Train Epoch: 4 [3200/10239 (31%)]   Loss:  0.615694\n",
            "Train Epoch: 4 [3520/10239 (34%)]   Loss:  0.559409\n",
            "Train Epoch: 4 [3840/10239 (37%)]   Loss:  0.725145\n",
            "Train Epoch: 4 [4160/10239 (40%)]   Loss:  0.748471\n",
            "Train Epoch: 4 [4480/10239 (43%)]   Loss:  0.662388\n",
            "Train Epoch: 4 [4800/10239 (46%)]   Loss:  0.794587\n",
            "Train Epoch: 4 [5120/10239 (50%)]   Loss:  0.523788\n",
            "Train Epoch: 4 [5440/10239 (53%)]   Loss:  0.681169\n",
            "Train Epoch: 4 [5760/10239 (56%)]   Loss:  0.471690\n",
            "Train Epoch: 4 [6080/10239 (59%)]   Loss:  0.667495\n",
            "Train Epoch: 4 [6400/10239 (62%)]   Loss:  0.400708\n",
            "Train Epoch: 4 [6720/10239 (65%)]   Loss:  0.729557\n",
            "Train Epoch: 4 [7040/10239 (68%)]   Loss:  0.721604\n",
            "Train Epoch: 4 [7360/10239 (71%)]   Loss:  0.632115\n",
            "Train Epoch: 4 [7680/10239 (75%)]   Loss:  0.699519\n",
            "Train Epoch: 4 [8000/10239 (78%)]   Loss:  0.603753\n",
            "Train Epoch: 4 [8320/10239 (81%)]   Loss:  0.556588\n",
            "Train Epoch: 4 [8640/10239 (84%)]   Loss:  0.563644\n",
            "Train Epoch: 4 [8960/10239 (87%)]   Loss:  0.548941\n",
            "Train Epoch: 4 [9280/10239 (90%)]   Loss:  0.563905\n",
            "Train Epoch: 4 [9600/10239 (93%)]   Loss:  0.780182\n",
            "Train Epoch: 4 [9920/10239 (96%)]   Loss:  0.692969\n",
            "Train loss 0.6555663181003183 accuracy 0.6232053911514797\n"
          ],
          "name": "stdout"
        },
        {
          "output_type": "stream",
          "text": [
            "/usr/local/lib/python3.7/dist-packages/transformers/tokenization_utils_base.py:2079: FutureWarning: The `pad_to_max_length` argument is deprecated and will be removed in a future version, use `padding=True` or `padding='longest'` to pad to the longest sequence in the batch, or use `padding='max_length'` to pad to a max length. In this case, you can give a specific length with `max_length` (e.g. `max_length=45`) or leave max_length to None to pad to the maximal input size of the model (e.g. 512 for Bert).\n",
            "  FutureWarning,\n",
            "/usr/local/lib/python3.7/dist-packages/transformers/tokenization_utils_base.py:2079: FutureWarning: The `pad_to_max_length` argument is deprecated and will be removed in a future version, use `padding=True` or `padding='longest'` to pad to the longest sequence in the batch, or use `padding='max_length'` to pad to a max length. In this case, you can give a specific length with `max_length` (e.g. `max_length=45`) or leave max_length to None to pad to the maximal input size of the model (e.g. 512 for Bert).\n",
            "  FutureWarning,\n",
            "/usr/local/lib/python3.7/dist-packages/transformers/tokenization_utils_base.py:2079: FutureWarning: The `pad_to_max_length` argument is deprecated and will be removed in a future version, use `padding=True` or `padding='longest'` to pad to the longest sequence in the batch, or use `padding='max_length'` to pad to a max length. In this case, you can give a specific length with `max_length` (e.g. `max_length=45`) or leave max_length to None to pad to the maximal input size of the model (e.g. 512 for Bert).\n",
            "  FutureWarning,\n",
            "/usr/local/lib/python3.7/dist-packages/transformers/tokenization_utils_base.py:2079: FutureWarning: The `pad_to_max_length` argument is deprecated and will be removed in a future version, use `padding=True` or `padding='longest'` to pad to the longest sequence in the batch, or use `padding='max_length'` to pad to a max length. In this case, you can give a specific length with `max_length` (e.g. `max_length=45`) or leave max_length to None to pad to the maximal input size of the model (e.g. 512 for Bert).\n",
            "  FutureWarning,\n"
          ],
          "name": "stderr"
        },
        {
          "output_type": "stream",
          "text": [
            "Val   loss 0.6610177472049807 accuracy 0.6180826188620421\n",
            "\n"
          ],
          "name": "stdout"
        }
      ]
    },
    {
      "cell_type": "markdown",
      "metadata": {
        "id": "IF2w1dVRx8FC"
      },
      "source": [
        "## Visualizing Results"
      ]
    },
    {
      "cell_type": "code",
      "metadata": {
        "id": "7ZZ6qozJqinT",
        "colab": {
          "base_uri": "https://localhost:8080/",
          "height": 523
        },
        "outputId": "2d253f24-6cbd-4f15-c354-15fda1c8ff56"
      },
      "source": [
        "plt.plot(history['train_acc'], label='train accuracy')\n",
        "plt.plot(history['val_acc'], label='validation accuracy')\n",
        "\n",
        "plt.title('Training history')\n",
        "plt.ylabel('Accuracy')\n",
        "plt.xlabel('Epoch')\n",
        "plt.legend()\n",
        "plt.ylim([0, 1]);                                                                                                                                                                                                           "
      ],
      "execution_count": 51,
      "outputs": [
        {
          "output_type": "display_data",
          "data": {
            "image/png": "[encoded data removed]",
            "text/plain": [
              "<Figure size 864x576 with 1 Axes>"
            ]
          },
          "metadata": {
            "tags": [],
            "image/png": {
              "width": 732,
              "height": 506
            }
          }
        }
      ]
    },
    {
      "cell_type": "code",
      "metadata": {
        "id": "sCx2gsQy_fh1"
      },
      "source": [
        "url = 'https://raw.githubusercontent.com/srushtinandu/NLP-Project/main/data/test.tsv'\n",
        "test_data = pd.read_csv(url, sep = '\\t')\n",
        "test_data.columns=['ID', 'Label', 'Statement', 'subject(s)', 'speaker', 'speaker\\'s job', 'state info', 'party affiliation', 'barely true counts', 'false counts', 'half true counts', 'mostly true counts', 'pants on fire counts', 'context (venue / location of the speech or statement)']"
      ],
      "execution_count": 52,
      "outputs": []
    },
    {
      "cell_type": "code",
      "metadata": {
        "id": "oZ-L-LDhJd7U"
      },
      "source": [
        "test_data = test_data.drop(columns=['ID', 'barely true counts', 'false counts', 'half true counts', 'mostly true counts', 'pants on fire counts'])\n",
        "def to_label(label):\n",
        "  if label == 'mostly-true' or label == 'half-true':\n",
        "    return 'true'\n",
        "  elif label == 'pants-fire' or label == 'barely-true':\n",
        "    return 'false'\n",
        "  else:\n",
        "    return label\n",
        "test_data['Label'] = test_data.Label.apply(to_label)\n",
        "test_data.replace(['true', 'false'], [1,0], inplace=True)"
      ],
      "execution_count": 53,
      "outputs": []
    },
    {
      "cell_type": "code",
      "metadata": {
        "id": "2y72MoI3ayDh",
        "colab": {
          "base_uri": "https://localhost:8080/"
        },
        "outputId": "8b3dd5ac-8267-42b2-904b-77cb6f596184"
      },
      "source": [
        "test_data_loader = create_data_loader(test_data, tokenizer, MAX_LEN, BATCH_SIZE)"
      ],
      "execution_count": 54,
      "outputs": [
        {
          "output_type": "stream",
          "text": [
            "/usr/local/lib/python3.7/dist-packages/torch/utils/data/dataloader.py:477: UserWarning: This DataLoader will create 4 worker processes in total. Our suggested max number of worker in current system is 2, which is smaller than what this DataLoader is going to create. Please be aware that excessive worker creation might get DataLoader running slow or even freeze, lower the worker number to avoid potential slowness/freeze if necessary.\n",
            "  cpuset_checked))\n"
          ],
          "name": "stderr"
        }
      ]
    },
    {
      "cell_type": "code",
      "metadata": {
        "id": "XvK3swY7iiY0",
        "colab": {
          "base_uri": "https://localhost:8080/"
        },
        "outputId": "cea0571c-9287-4241-93a7-a2064c792dc9"
      },
      "source": [
        "test_acc, _ = eval_model(\n",
        "  model,\n",
        "  test_data_loader,\n",
        "  loss_fn,\n",
        "  device,\n",
        "  len(test_data)\n",
        ")\n",
        "\n",
        "test_acc.item()"
      ],
      "execution_count": 55,
      "outputs": [
        {
          "output_type": "stream",
          "text": [
            "/usr/local/lib/python3.7/dist-packages/torch/utils/data/dataloader.py:477: UserWarning: This DataLoader will create 4 worker processes in total. Our suggested max number of worker in current system is 2, which is smaller than what this DataLoader is going to create. Please be aware that excessive worker creation might get DataLoader running slow or even freeze, lower the worker number to avoid potential slowness/freeze if necessary.\n",
            "  cpuset_checked))\n",
            "/usr/local/lib/python3.7/dist-packages/transformers/tokenization_utils_base.py:2079: FutureWarning: The `pad_to_max_length` argument is deprecated and will be removed in a future version, use `padding=True` or `padding='longest'` to pad to the longest sequence in the batch, or use `padding='max_length'` to pad to a max length. In this case, you can give a specific length with `max_length` (e.g. `max_length=45`) or leave max_length to None to pad to the maximal input size of the model (e.g. 512 for Bert).\n",
            "  FutureWarning,\n",
            "/usr/local/lib/python3.7/dist-packages/transformers/tokenization_utils_base.py:2079: FutureWarning: The `pad_to_max_length` argument is deprecated and will be removed in a future version, use `padding=True` or `padding='longest'` to pad to the longest sequence in the batch, or use `padding='max_length'` to pad to a max length. In this case, you can give a specific length with `max_length` (e.g. `max_length=45`) or leave max_length to None to pad to the maximal input size of the model (e.g. 512 for Bert).\n",
            "  FutureWarning,\n",
            "/usr/local/lib/python3.7/dist-packages/transformers/tokenization_utils_base.py:2079: FutureWarning: The `pad_to_max_length` argument is deprecated and will be removed in a future version, use `padding=True` or `padding='longest'` to pad to the longest sequence in the batch, or use `padding='max_length'` to pad to a max length. In this case, you can give a specific length with `max_length` (e.g. `max_length=45`) or leave max_length to None to pad to the maximal input size of the model (e.g. 512 for Bert).\n",
            "  FutureWarning,\n",
            "/usr/local/lib/python3.7/dist-packages/transformers/tokenization_utils_base.py:2079: FutureWarning: The `pad_to_max_length` argument is deprecated and will be removed in a future version, use `padding=True` or `padding='longest'` to pad to the longest sequence in the batch, or use `padding='max_length'` to pad to a max length. In this case, you can give a specific length with `max_length` (e.g. `max_length=45`) or leave max_length to None to pad to the maximal input size of the model (e.g. 512 for Bert).\n",
            "  FutureWarning,\n"
          ],
          "name": "stderr"
        },
        {
          "output_type": "execute_result",
          "data": {
            "text/plain": [
              "0.6042654028436019"
            ]
          },
          "metadata": {
            "tags": []
          },
          "execution_count": 55
        }
      ]
    },
    {
      "cell_type": "code",
      "metadata": {
        "id": "ooyxkPaPilIr"
      },
      "source": [
        "def get_predictions(model, data_loader):\n",
        "  model = model.eval()\n",
        "  \n",
        "  statement_texts = []\n",
        "  predictions = []\n",
        "  prediction_probs = []\n",
        "  real_values = []\n",
        "\n",
        "  with torch.no_grad():\n",
        "    for d in data_loader:\n",
        "\n",
        "      texts = d[\"statement_text\"]\n",
        "      input_ids = d[\"input_ids\"].to(device)\n",
        "      attention_mask = d[\"attention_mask\"].to(device)\n",
        "      targets = d[\"labels\"].to(device)\n",
        "\n",
        "      outputs = model(\n",
        "        input_ids=input_ids,\n",
        "        attention_mask=attention_mask\n",
        "      )\n",
        "      _, preds = torch.max(outputs, dim=1)\n",
        "\n",
        "      probs = F.softmax(outputs, dim=1)\n",
        "\n",
        "      statement_texts.extend(texts)\n",
        "      predictions.extend(preds)\n",
        "      prediction_probs.extend(probs)\n",
        "      real_values.extend(targets)\n",
        "\n",
        "  predictions = torch.stack(predictions).cpu()\n",
        "  prediction_probs = torch.stack(prediction_probs).cpu()\n",
        "  real_values = torch.stack(real_values).cpu()\n",
        "  return statement_texts, predictions, prediction_probs, real_values"
      ],
      "execution_count": 56,
      "outputs": []
    },
    {
      "cell_type": "code",
      "metadata": {
        "id": "Il98zAIXja4x",
        "colab": {
          "base_uri": "https://localhost:8080/"
        },
        "outputId": "05f447e4-b693-43dd-d6db-05313299fd5c"
      },
      "source": [
        "y_statement_texts, y_pred, y_pred_probs, y_test = get_predictions(\n",
        "  model,\n",
        "  test_data_loader\n",
        ")\n"
      ],
      "execution_count": 57,
      "outputs": [
        {
          "output_type": "stream",
          "text": [
            "/usr/local/lib/python3.7/dist-packages/torch/utils/data/dataloader.py:477: UserWarning: This DataLoader will create 4 worker processes in total. Our suggested max number of worker in current system is 2, which is smaller than what this DataLoader is going to create. Please be aware that excessive worker creation might get DataLoader running slow or even freeze, lower the worker number to avoid potential slowness/freeze if necessary.\n",
            "  cpuset_checked))\n",
            "/usr/local/lib/python3.7/dist-packages/transformers/tokenization_utils_base.py:2079: FutureWarning: The `pad_to_max_length` argument is deprecated and will be removed in a future version, use `padding=True` or `padding='longest'` to pad to the longest sequence in the batch, or use `padding='max_length'` to pad to a max length. In this case, you can give a specific length with `max_length` (e.g. `max_length=45`) or leave max_length to None to pad to the maximal input size of the model (e.g. 512 for Bert).\n",
            "  FutureWarning,\n",
            "/usr/local/lib/python3.7/dist-packages/transformers/tokenization_utils_base.py:2079: FutureWarning: The `pad_to_max_length` argument is deprecated and will be removed in a future version, use `padding=True` or `padding='longest'` to pad to the longest sequence in the batch, or use `padding='max_length'` to pad to a max length. In this case, you can give a specific length with `max_length` (e.g. `max_length=45`) or leave max_length to None to pad to the maximal input size of the model (e.g. 512 for Bert).\n",
            "  FutureWarning,\n",
            "/usr/local/lib/python3.7/dist-packages/transformers/tokenization_utils_base.py:2079: FutureWarning: The `pad_to_max_length` argument is deprecated and will be removed in a future version, use `padding=True` or `padding='longest'` to pad to the longest sequence in the batch, or use `padding='max_length'` to pad to a max length. In this case, you can give a specific length with `max_length` (e.g. `max_length=45`) or leave max_length to None to pad to the maximal input size of the model (e.g. 512 for Bert).\n",
            "  FutureWarning,\n",
            "/usr/local/lib/python3.7/dist-packages/transformers/tokenization_utils_base.py:2079: FutureWarning: The `pad_to_max_length` argument is deprecated and will be removed in a future version, use `padding=True` or `padding='longest'` to pad to the longest sequence in the batch, or use `padding='max_length'` to pad to a max length. In this case, you can give a specific length with `max_length` (e.g. `max_length=45`) or leave max_length to None to pad to the maximal input size of the model (e.g. 512 for Bert).\n",
            "  FutureWarning,\n"
          ],
          "name": "stderr"
        }
      ]
    },
    {
      "cell_type": "code",
      "metadata": {
        "id": "Pzv9rLHoixPj",
        "colab": {
          "base_uri": "https://localhost:8080/"
        },
        "outputId": "d9de8e4b-f62f-4904-e232-bdcc0ec71ac9"
      },
      "source": [
        "true_negatives = []\n",
        "true_positives = []\n",
        "false_negatives = []\n",
        "false_positives = []\n",
        "for i in range(len(y_statement_texts)):\n",
        "  if y_pred[i] == 0 and y_test[i] == 0:\n",
        "    if len(true_negatives) < 30:\n",
        "      true_negatives.append(y_statement_texts[i])\n",
        "  elif y_pred[i] == 1 and y_test[i] == 1:\n",
        "    if len(true_positives) < 30:\n",
        "      true_positives.append(y_statement_texts[i])\n",
        "  elif y_pred[i] == 0 and y_test[i] == 1:\n",
        "    if len(false_negatives) < 30:\n",
        "      false_negatives.append(y_statement_texts[i])\n",
        "  elif y_pred[i] == 1 and y_test[i] == 0:\n",
        "    if len(false_positives) < 30:\n",
        "      false_positives.append(y_statement_texts[i])\n",
        "print('True Negative Statements')\n",
        "print(true_negatives)\n",
        "print()\n",
        "print('True Positive Statements')\n",
        "print(true_positives)\n",
        "print()\n",
        "print('False Negative Statements')\n",
        "print(false_negatives)\n",
        "print()\n",
        "print('False Positive Statements')\n",
        "print(false_positives)\n",
        "print()\n",
        "\n",
        "\n",
        "  "
      ],
      "execution_count": 58,
      "outputs": [
        {
          "output_type": "stream",
          "text": [
            "True Negative Statements\n",
            "['Says John McCain has done nothing to help the vets.', 'When asked by a reporter whether hes at the center of a criminal scheme to violate campaign laws, Gov. Scott Walker nodded yes.', 'Says Vice President Joe Biden \"admits that the American people are being scammed\" with the economic stimulus package.', 'PolitiFact Texas says Congressman Edwards attacks on Bill Flores are false.', 'Denali is the Kenyan word for black power.', 'Unfortunately we have documented instances where people defecated in the (Statehouse) building.', 'Says Charlie Crist is embroiled in a fraud case for steering taxpayer money to a de facto Ponzi scheme.', 'I was gone when there was a red line against Syria.', 'Under Rosemary Lehmberg, the Travis County D.A.s office convened the grand jury that indicted Rick Perry.', 'Pre-existing conditions are covered under my (health care) plan.', 'Says he won the second debate with Hillary Clinton in a landslide in every poll.', 'Says bag litter increased after San Francisco banned single-use shopping bags.', 'A salesclerk at Hobby Lobby who needs contraception is not going to get that service through her employers health care plan because her employer doesnt think she should be using contraception.', 'Hillary Clinton said gun confiscation would be worth considering.', 'ACORN will be a paid partner with the Census Bureau and they will be in charge of going door-to-door and collecting data from the American public.', 'If the sequester hits, federal prosecutors will have to let criminals go.', 'Says Dick Cheney de-Baathisized the Iraqi government and created ISIS.', 'I did not play any role in bringing the company to RI as did others in government. I was tasked with handling the legislation affecting the company by my superiors.', 'What the facts say is ...the best scenario for kids is a loving mom and dad.', 'Says Mark Neumann = Nancy Pelosi', 'Says delegates cant legally change the Republican National Convention rules to prevent Donald Trumps nomination.', 'On banning earmarks.', 'Mitch McConnell opposed \"legislation to create and protect Kentucky jobs . . . help for the unemployed. . . health care for Kentucky\\'s children,\" and \"fair pay for women.\"', 'President Obama, Sen. Harry Reid and Rep. Nancy Pelosi passed a $1.2 trillion stimulus bill.', 'Tom Leppert pledged to make Dallas a sanctuary city for illegal immigrants.', 'Says Donald Trump said of women, And you can tell them to go f--- themselves.', '(Barack Obama) says hes going to reduce the long-term debt and deficit by $4 trillion, doesnt say how hes going to do it.', 'Birth control pioneer Margaret Sanger wasan active participant in the Ku Klux Klan.', 'Delaware Democratic Senate candidate Chris Coons thought that a 911 call should be taxed.', 'When Tim Kaine was governor, spending soared, blowing holes in the budget every year.']\n",
            "\n",
            "True Positive Statements\n",
            "['Over the past five years the federal government has paid out $601 million in retirement and disability benefits to deceased former federal employees.', 'Says that Tennessee law requires that schools receive half of proceeds -- $31 million per year -- from a half-cent increase in the Shelby County sales tax.', 'Says the unemployment rate for college graduates is 4.4 percent and over 10 percent for noncollege-educated.', 'A recent Gallup poll found that 72 percent of Americans and 56 percent of Democrats say the biggest threat to our nations security is big government.', \"Each year, 18,000 people die in America because they don't have health care.\", 'Says Mitt Romney was one of the first national Republican leaders to endorse Marco Rubio.', 'Marijuana is less toxic than alcohol.', 'Now, there was a time when someone like Scalia and Ginsburg got 95-plus votes.', 'Active duty males in the military are twice as likely to develop prostate cancer than their civilian counterparts.', 'Tom Ganley has two Fs from the Better Business Bureau and over 160 complaints in just three years.', 'The United States has a low voter turnout rate.', 'The Fed created $1.2 trillion out of nothing, gave it to banks, and some of them foreign banks, so that they could stabilize their operations.', 'Texas families have kept more than $10 billion in their family budgets since we successfully fought to restore Texas sales tax deduction a decade ago.', 'The federal minimum wage is worth about 20 percent less than it was when Ronald Reagan gave his first address to a joint session of Congress.', 'Already, a prototype driverless car has traveled more than 300,000 miles in the crowded maze of California streets without a single accident.', 'Last year, out of the 500,000 (in) population growth we had in the state of Texas, about 250,000 of the 500,000 came to Texas... from the other 49 states.', 'Says Gov. Chris Christie cut spending (by) $1 billion and provided $850 million in new education funding.', 'Hes the only candidate whos balanced budgets and brought jobs to Providence.', 'Studies have shown that in the absence of federal reproductive health funds, we are going to see the level of abortion in Georgia increase by about 44 percent.', 'Obamacare insurance cooperative failures should be expected because theyre like any business, and when you start businesses in America, at the fifth year, half of the businesses have closed.', 'Across the country, $174 billion of the Recovery Act have been committed in its first 130 days.', 'Twenty-five states have lower unemployment than Texas which is tied with Mississippi for more minimum-wage jobs than anywhere in the United States.', 'Of the 20 bills [Rep. David] Cicilline has sponsored in his three years in office, not a single one has advanced past the embryonic committee stage.', 'Every child born today inherits a $30,000 share in a national debt that stands at more than $13 trillion.', 'Proximity to high-voltage power lines lowers property values by as much as 30 percent.', 'Proposition 2 on Novembers Texas ballot does not cost state taxpayers any money.', 'Providence has the lowest crime rate in three decades.', 'Says hes taken an 8% pay decrease in each of the nine years he has been in office.', '1 percent of Americans are millionaires. 47 percent of House Reps. are millionaires. 56 percent of Senators are millionaires.', 'The Texas Department of Transportation... misplaced a billion dollars.']\n",
            "\n",
            "False Negative Statements\n",
            "['Suzanne Bonamici supports a plan that will cut choice for Medicare Advantage seniors.', 'Donald Trump is against marriage equality. He wants to go back.', 'On residency requirements for public workers', 'There have not been any public safety issues in cities that allow transgender people to use the bathroom of the gender they identify as.', 'Tim Kaine hiked tuition as governor, but now claims to champion affordability.', 'Contends that President Obama literally said (if) his cap-and-trade proposals were to pass, that utility rates, his words now, would, necessarily skyrocket.', 'On which team hes rooting for in the World Series.', 'Says Thomas Jefferson said, You might be able to fool the people for awhile, and they may go astray, but sooner or later the American people are going to wake up and they will correct the course.', 'In Massachusetts, Scott Brown pushed for a law to force women considering abortion -- force them -- to look at color photographs of developing fetuses.', 'Greg Abbott activated the state guard to monitor Jade Helm 15 in case the troops try to impose martial law, disarm innocent Texans, and detain them in tunnels beneath closed Walmart stores.', 'In 1993, Newt Gingrich first advocated for the individual mandate in health care. And as recently as May of this year, he was still advocating for it.', 'You said you would vote against the Patriot Act, then you came to the Senate, you voted for it.', 'Says Charlie Crist voted against raising the minimum wage.', 'Says Bill and Hillary Clinton attended Donald Trumps last wedding.', 'Says Marco Rubio said Social Security and Medicare haveweakened us as a people.', 'As secretary of the Department of Energy under former President Bill Clinton, \"I created reserves of home heating oil.\"', 'Says Donald Trump has said he loves war, including with nukes.', 'To hear Gov. Christie tell it, everything in New Jersey is going just fine. Well I see another New Jersey with 400,000 unemployed. One of the worst jobless rates in the country. Working and middle class families have seen costs soar, from property taxes to college tuition.', 'Pepper ... kicked off a jock tax, imposing a levy on the sports and entertainment industry.', 'Under Mayor Tom Barrett, the number of Milwaukee police officers has not increased.', 'I am very proud, as governor of Florida, that we signed the first divestment act, as it relates to Iran, divesting any investments in companies that would invest in Iran.', 'Muslim nations did not call out the people who celebrated the 9/11 attacks.', 'The words subhuman mongrel, which Ted Nugent called President Barack Obama, were used by the Nazis to justify the genocide of the Jewish community.', 'Says President Obama and his National Labor Relations Board sued Boeing over its decision to open a plant in South Carolina.', 'Says U.S. Sen. Ron Johnson led the fight to let polluters release unlimited amounts of carbon pollution and took nearly $225,000 from polluters.', 'Orrin Hatch co-sponsored a 1993 health care bill that had an individual mandate.', 'Says Mitt Romney flip-flopped on an assault weapons ban.', 'On running a civil and polite campaign.', 'Mitt Romney drove to Canada with the family dog Seamus strapped to the roof of the car.', 'Says NFL Commissioner Roger Goodell interviewed domestic abuse victim Janay Rice with Ray Rice present and for every domestic violence agency, every law enforcement agency, thats a no-no.']\n",
            "\n",
            "False Positive Statements\n",
            "['Wisconsin is on pace to double the number of layoffs this year.', 'We know that more than half of Hillary Clintons meetings while she was secretary of state were given to major contributors to the Clinton Foundation.', 'We know there are more Democrats in Georgia than Republicans. We know that for a fact.', 'Says 57 percent of federal spending goes to the military and just 1 percent goes to food and agriculture, including food stamps.', 'Ronald Reagan faced an even worse recession than the current one.', 'The number of illegal immigrants could be 3 million. It could be 30 million.', 'Its been since 1888 that a Senate of a different party than the president in the White House confirmed a Supreme Court nominee.', 'Because of the federal health care law, 300,000 health plans canceled in Florida.', 'Says as a result of the national health care reform, the Congressional Budget Office says we save $250 million over the first 10 years. Over the next 10 years, we save $1.2 trillion in savings in terms of health care.', 'A proposed tax to fund transportation projects would spend $90,000 to take a single vehicle off the road during the morning and afternoon commute.', 'When undocumented children are picked up at the border and told to appear later in court ... 90 percent do not then show up.', 'Sixty percent of the Hispanics support the Arizona immigration law', 'The tax cut deal is giving $700 billion to millionaires and billionaires.', 'Any state tax law has to start in the House and the renewal of the state hospital bed tax this year started in the Senate, which is unconstitutional.', 'A strong bipartisan majority in the House of Representatives voted to defund Obamacare.', 'Rebuilding three high schools will benefit 40 percent of Portland Public School students.', 'The decision for the United States to buy heavy water from Iran will directly subsidize Irans nuclear program.', 'A judges order means theres a Constitution exemption zone if you live within 100 miles of the United States border.', 'Taxpayers subsidize 80 percent of each MARTA trip', 'Says people in Africa literally walk two and three hundred miles in order to vote.', 'Half of children struck by cars near schools are hit by parents driving children to school.', 'Citizens Property Insurance has over $500 billion worth of risk, with less than $10 billion worth of surplus.', 'When Atlanta Police Chief George Turner was interim head of the department, overall crime fell 14 percent and violent crime dropped 22.7 percent.', 'The Taliban has been there for years and years, I mean, hundreds of thousands of years.', 'U.S. Rep. Lloyd Doggett is the most liberal man in the United States Congress.', 'Its entirely possible that the Democratic nominee, [Hillary Clinton], earned more money giving a single speech on Wall Street than I made the six years that I was there back in the 1980s In fact, its quite likely.', 'Says state Senate President Stephen Sweeney gave us the nations highest income tax rates, driving out jobs.', 'President Obama has the lowest public approval ratings of any president in modern times.', 'On an income cap for recipients of the popular HOPE scholarship', 'Many of the founding fathers were very actively involved in cockfighting.']\n",
            "\n"
          ],
          "name": "stdout"
        }
      ]
    },
    {
      "cell_type": "code",
      "metadata": {
        "id": "la2PnPXyje0A",
        "colab": {
          "base_uri": "https://localhost:8080/"
        },
        "outputId": "6ba0ec5a-1d1c-4390-92a1-6ca8f0bfe6db"
      },
      "source": [
        "print(classification_report(y_test, y_pred, target_names=class_names))"
      ],
      "execution_count": 59,
      "outputs": [
        {
          "output_type": "stream",
          "text": [
            "              precision    recall  f1-score   support\n",
            "\n",
            "        true       0.54      0.58      0.56       553\n",
            "       false       0.66      0.63      0.64       713\n",
            "\n",
            "    accuracy                           0.60      1266\n",
            "   macro avg       0.60      0.60      0.60      1266\n",
            "weighted avg       0.61      0.60      0.61      1266\n",
            "\n"
          ],
          "name": "stdout"
        }
      ]
    },
    {
      "cell_type": "code",
      "metadata": {
        "id": "ajeBxNg4jze5",
        "colab": {
          "base_uri": "https://localhost:8080/",
          "height": 520
        },
        "outputId": "7ab286d5-8515-45f5-8b04-239b0a6f6604"
      },
      "source": [
        "def show_confusion_matrix(confusion_matrix):\n",
        "  hmap = sns.heatmap(confusion_matrix, annot=True, fmt=\"d\", cmap=\"Reds\")\n",
        "  hmap.yaxis.set_ticklabels(hmap.yaxis.get_ticklabels(), rotation=0, ha='right')\n",
        "  hmap.xaxis.set_ticklabels(hmap.xaxis.get_ticklabels(), rotation=30, ha='right')\n",
        "  plt.ylabel('True Label')\n",
        "  plt.xlabel('Predicted Label');\n",
        "\n",
        "cm = confusion_matrix(y_test, y_pred)\n",
        "df_cm = pd.DataFrame(cm, index=class_names, columns=class_names)\n",
        "show_confusion_matrix(df_cm)"
      ],
      "execution_count": 60,
      "outputs": [
        {
          "output_type": "display_data",
          "data": {
            "image/png": "[encoded data removed]",
            "text/plain": [
              "<Figure size 864x576 with 2 Axes>"
            ]
          },
          "metadata": {
            "tags": [],
            "image/png": {
              "width": 698,
              "height": 503
            }
          }
        }
      ]
    }
  ]
}